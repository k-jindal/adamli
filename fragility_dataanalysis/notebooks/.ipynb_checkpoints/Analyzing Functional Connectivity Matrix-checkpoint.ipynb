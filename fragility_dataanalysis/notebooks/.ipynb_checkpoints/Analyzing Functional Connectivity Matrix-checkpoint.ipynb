{
 "cells": [
  {
   "cell_type": "code",
   "execution_count": 2,
   "metadata": {
    "collapsed": true
   },
   "outputs": [],
   "source": [
    "import pandas as pd\n",
    "import numpy as np\n",
    "import json\n",
    "import os\n",
    "from IPython.display import display\n",
    "\n",
    "import scipy, scipy.io\n",
    "\n",
    "## sklearn imports\n",
    "import sklearn.linear_model\n",
    "import sklearn.cross_validation\n",
    "import sklearn.tree\n",
    "import sklearn.ensemble\n",
    "import sklearn.preprocessing\n",
    "import sklearn.feature_selection\n",
    "import sklearn.pipeline\n",
    "import sklearn.grid_search"
   ]
  },
  {
   "cell_type": "code",
   "execution_count": 3,
   "metadata": {
    "collapsed": false
   },
   "outputs": [],
   "source": [
    "# paramaters of data\n",
    "freq = 1000\n",
    "winSize = 500\n",
    "stepSize = 500\n",
    "\n",
    "# directories\n",
    "dataDir = '../data/'\n",
    "adjDir = '../adj_mats_win500_step500/'\n",
    "patients = ['pt1sz2', 'pt1sz3']\n",
    "\n",
    "patient = patients[0]\n",
    "patientDir = adjDir + patient + '/'\n",
    "matFiles = []\n",
    "for file in os.listdir(patientDir):\n",
    "    if file.endswith('.mat'):\n",
    "        matFiles.append(file)"
   ]
  },
  {
   "cell_type": "code",
   "execution_count": 5,
   "metadata": {
    "collapsed": false
   },
   "outputs": [
    {
     "name": "stdout",
     "output_type": "stream",
     "text": [
      "[u'POLATT3' u'POLAST1' u'POLAST2']\n"
     ]
    }
   ],
   "source": [
    "for file in matFiles:\n",
    "    data = scipy.io.loadmat(patientDir + file, squeeze_me=True, struct_as_record=False)\n",
    "    data = data['data']\n",
    "    print data.earlyspread_labels\n",
    "    break"
   ]
  },
  {
   "cell_type": "code",
   "execution_count": 28,
   "metadata": {
    "collapsed": false
   },
   "outputs": [
    {
     "name": "stdout",
     "output_type": "stream",
     "text": [
      "[48000 50000]\n",
      "4\n",
      "[ 48000.  48500.  49000.  49500.  50000.]\n",
      "60000\n"
     ]
    }
   ],
   "source": [
    "## given time period\n",
    "timePeriod = [48, 50]\n",
    "timePeriod = np.asarray(timePeriod) * 1000 # convert to ms\n",
    "timePeriod = np.linspace(timePeriod[0], timePeriod[1], num=np.ptp(timePeriod)/winSize+1)\n",
    "\n",
    "# find files of this time period, and show their corresponding eigenspectrum and heatmap of adjacency mat\n",
    "\n",
    "\n",
    "for file in matFiles:\n",
    "    indexExt = file.index('.')\n",
    "    print file[indexExt-5:indexExt]\n",
    "    break"
   ]
  },
  {
   "cell_type": "code",
   "execution_count": 27,
   "metadata": {
    "collapsed": false
   },
   "outputs": [
    {
     "name": "stdout",
     "output_type": "stream",
     "text": [
      "[ 48000.  48500.  49000.  49500.  50000.]\n"
     ]
    }
   ],
   "source": [
    "print np.linspace(48000, 50000, num=5)"
   ]
  },
  {
   "cell_type": "code",
   "execution_count": null,
   "metadata": {
    "collapsed": true
   },
   "outputs": [],
   "source": []
  }
 ],
 "metadata": {
  "kernelspec": {
   "display_name": "Python 2",
   "language": "python",
   "name": "python2"
  },
  "language_info": {
   "codemirror_mode": {
    "name": "ipython",
    "version": 2
   },
   "file_extension": ".py",
   "mimetype": "text/x-python",
   "name": "python",
   "nbconvert_exporter": "python",
   "pygments_lexer": "ipython2",
   "version": "2.7.12"
  }
 },
 "nbformat": 4,
 "nbformat_minor": 0
}
