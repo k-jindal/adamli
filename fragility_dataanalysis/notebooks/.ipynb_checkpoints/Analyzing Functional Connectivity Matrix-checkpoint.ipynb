{
 "cells": [
  {
   "cell_type": "code",
   "execution_count": 4,
   "metadata": {
    "collapsed": true
   },
   "outputs": [],
   "source": [
    "import pandas as pd\n",
    "import numpy as np\n",
    "import json\n",
    "import os\n",
    "from IPython.display import display\n",
    "\n",
    "import scipy, scipy.io\n",
    "\n",
    "## sklearn imports\n",
    "import sklearn.linear_model\n",
    "import sklearn.cross_validation\n",
    "import sklearn.tree\n",
    "import sklearn.ensemble\n",
    "import sklearn.preprocessing\n",
    "import sklearn.feature_selection\n",
    "import sklearn.pipeline\n",
    "import sklearn.grid_search"
   ]
  },
  {
   "cell_type": "code",
   "execution_count": 3,
   "metadata": {
    "collapsed": false
   },
   "outputs": [],
   "source": [
    "# paramaters of data\n",
    "freq = 1000\n",
    "winSize = 500\n",
    "stepSize = 500\n",
    "\n",
    "# directories\n",
    "dataDir = '../data/'\n",
    "adjDir = '../adj_mats_win500_step500/'\n",
    "patients = ['pt1sz2', 'pt1sz3']\n",
    "\n",
    "patient = patients[0]\n",
    "patientDir = adjDir + patient + '/'\n",
    "matFiles = []\n",
    "for file in os.listdir(patientDir):\n",
    "    if file.endswith('.mat'):\n",
    "        matFiles.append(file)"
   ]
  },
  {
   "cell_type": "code",
   "execution_count": 11,
   "metadata": {
    "collapsed": false
   },
   "outputs": [
    {
     "name": "stdout",
     "output_type": "stream",
     "text": [
      "<scipy.io.matlab.mio5_params.mat_struct object at 0x7f0facbc2910>\n"
     ]
    }
   ],
   "source": [
    "for file in matFiles:\n",
    "    data = scipy.io.loadmat(patientDir + file, squeeze_me=True, struct_as_record=False)\n",
    "    data = data['data']\n",
    "    print data.\n",
    "    break"
   ]
  },
  {
   "cell_type": "code",
   "execution_count": null,
   "metadata": {
    "collapsed": true
   },
   "outputs": [],
   "source": []
  }
 ],
 "metadata": {
  "kernelspec": {
   "display_name": "Python 2",
   "language": "python",
   "name": "python2"
  },
  "language_info": {
   "codemirror_mode": {
    "name": "ipython",
    "version": 2
   },
   "file_extension": ".py",
   "mimetype": "text/x-python",
   "name": "python",
   "nbconvert_exporter": "python",
   "pygments_lexer": "ipython2",
   "version": "2.7.12"
  }
 },
 "nbformat": 4,
 "nbformat_minor": 0
}
