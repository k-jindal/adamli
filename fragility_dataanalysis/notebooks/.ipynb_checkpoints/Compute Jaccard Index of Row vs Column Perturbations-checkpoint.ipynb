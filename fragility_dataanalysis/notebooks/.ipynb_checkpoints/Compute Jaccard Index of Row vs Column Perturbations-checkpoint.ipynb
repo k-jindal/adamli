{
 "cells": [
  {
   "cell_type": "markdown",
   "metadata": {},
   "source": [
    "* i=channel index\n",
    "* t=time index\n",
    "* $\\Delta=min\\ norm\\ perturbation$\n",
    "\n",
    "At each time point, t, for every channel, compute the following:\n",
    "$\\frac{max(\\Delta(t)) - \\Delta(t)_i}{max(\\Delta(t))}$"
   ]
  },
  {
   "cell_type": "code",
   "execution_count": 1,
   "metadata": {
    "collapsed": true
   },
   "outputs": [],
   "source": [
    "import pandas as pd\n",
    "import numpy as np\n",
    "import json\n",
    "import os\n",
    "from IPython.display import display\n",
    "\n",
    "import scipy, scipy.io\n",
    "\n",
    "## sklearn imports\n",
    "import sklearn.linear_model\n",
    "import sklearn.cross_validation\n",
    "import sklearn.tree\n",
    "import sklearn.ensemble\n",
    "import sklearn.preprocessing\n",
    "import sklearn.feature_selection\n",
    "import sklearn.pipeline\n",
    "import sklearn.grid_search"
   ]
  },
  {
   "cell_type": "code",
   "execution_count": 2,
   "metadata": {
    "collapsed": true
   },
   "outputs": [],
   "source": [
    "# paramaters of data\n",
    "freq = 1000\n",
    "winSize = 500\n",
    "stepSize = 500\n",
    "\n",
    "# directories\n",
    "dataDir = '../data/'\n",
    "adjDir = '../adj_mats_win500_step500_freq1000/'\n",
    "patients = ['pt1sz2', 'pt1sz3']\n",
    "\n",
    "patient = patients[0]\n",
    "patientDir = adjDir + patient + '/'\n",
    "matFiles = []\n",
    "for file in os.listdir(patientDir):\n",
    "    if file.endswith('.mat'):\n",
    "        matFiles.append(file)"
   ]
  },
  {
   "cell_type": "code",
   "execution_count": 15,
   "metadata": {
    "collapsed": false
   },
   "outputs": [
    {
     "name": "stdout",
     "output_type": "stream",
     "text": [
      "0.0348837209302\n"
     ]
    }
   ],
   "source": [
    "# column perturbation\n",
    "colDir = adjDir + 'C_finaldata_radius1.5/'\n",
    "patColDir = colDir + patient + 'final_data.mat'\n",
    "colData = scipy.io.loadmat(patColDir, squeeze_me=True, struct_as_record=False)\n",
    "\n",
    "# row perturbations\n",
    "rowDir = adjDir + 'R_finaldata_radius1.5/'\n",
    "patRowDir = rowDir + patient + 'final_data.mat'\n",
    "rowData = scipy.io.loadmat(patRowDir, squeeze_me=True, struct_as_record=False)\n",
    "\n",
    "# compare fragility rankings\n",
    "rowFragility = np.sum(rowData['fragility_rankings'], axis=1)\n",
    "colFragility = np.sum(1.-colData['fragility_rankings'], axis=1)\n",
    "rowIndex = sorted(range(len(rowFragility)), key=lambda k: rowFragility[k])\n",
    "colIndex = sorted(range(len(colFragility)), key=lambda k: colFragility[k])\n",
    "\n",
    "print sklearn.metrics.jaccard_similarity_score(rowIndex,colIndex)\n",
    "\n",
    "# compute contrast statistic\n",
    "threshold = 0.8\n"
   ]
  },
  {
   "cell_type": "code",
   "execution_count": 16,
   "metadata": {
    "collapsed": false
   },
   "outputs": [
    {
     "name": "stdout",
     "output_type": "stream",
     "text": [
      "[5, 4, 16, 29, 12, 20, 61, 28, 57, 46, 45, 58, 24, 71, 19, 65, 21, 66, 59, 79, 6, 53, 39, 70, 69, 15, 68, 14, 30, 25, 34, 47, 38, 37, 9, 48, 49, 44, 63, 85, 23, 67, 60, 35, 62, 80, 36, 18, 64, 17, 2, 73, 40, 1, 41, 51, 50, 78, 27, 26, 52, 8, 72, 42, 43, 84, 0, 7, 56, 81, 11, 83, 10, 31, 82, 22, 3, 76, 75, 13, 33, 55, 77, 54, 74, 32]\n"
     ]
    }
   ],
   "source": [
    "print colIndex"
   ]
  },
  {
   "cell_type": "code",
   "execution_count": 17,
   "metadata": {
    "collapsed": false
   },
   "outputs": [
    {
     "name": "stdout",
     "output_type": "stream",
     "text": [
      "[4, 5, 47, 12, 16, 6, 20, 24, 28, 57, 45, 39, 21, 53, 49, 25, 15, 29, 19, 14, 38, 9, 40, 2, 58, 79, 46, 61, 1, 37, 48, 66, 18, 26, 0, 30, 41, 34, 23, 51, 11, 44, 65, 10, 17, 52, 71, 8, 59, 68, 70, 80, 36, 7, 73, 62, 69, 43, 67, 50, 42, 85, 35, 78, 72, 27, 64, 63, 81, 82, 60, 84, 83, 3, 22, 54, 76, 56, 13, 75, 77, 31, 55, 33, 74, 32]\n"
     ]
    }
   ],
   "source": [
    "print rowIndex"
   ]
  },
  {
   "cell_type": "code",
   "execution_count": null,
   "metadata": {
    "collapsed": true
   },
   "outputs": [],
   "source": []
  }
 ],
 "metadata": {
  "kernelspec": {
   "display_name": "Python 2",
   "language": "python",
   "name": "python2"
  },
  "language_info": {
   "codemirror_mode": {
    "name": "ipython",
    "version": 2
   },
   "file_extension": ".py",
   "mimetype": "text/x-python",
   "name": "python",
   "nbconvert_exporter": "python",
   "pygments_lexer": "ipython2",
   "version": "2.7.11"
  }
 },
 "nbformat": 4,
 "nbformat_minor": 0
}
