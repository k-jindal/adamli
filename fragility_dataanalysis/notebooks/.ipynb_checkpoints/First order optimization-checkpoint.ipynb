{
 "metadata": {
  "name": "",
  "signature": "sha256:d154dbb9c432790ec154335a93bdece6a49edfb6d5edad4d594494c53af60529"
 },
 "nbformat": 3,
 "nbformat_minor": 0,
 "worksheets": [
  {
   "cells": [
    {
     "cell_type": "heading",
     "level": 1,
     "metadata": {},
     "source": [
      "Logistic and linear regression with first order methods"
     ]
    },
    {
     "cell_type": "markdown",
     "metadata": {},
     "source": [
      "Notebook to play with a few first order optimization methods. Currently covers proximal algorithms for l1 and l2 regularization as well as more recent stochastic methods like SAG and MISO. Optimization is done either on the least squares or logistic loss.\n",
      "\n",
      "### Table of content\n",
      "\n",
      "[1. Loss function and gradients](#loss)<br>\n",
      "[2. Proximal gradient derived from a majorization-minimization method](#mm_method)<br>\n",
      "[3. Proximal operators](#prox)<br>\n",
      "[4. Full gradient methods (GD, ISTA, FISTA)](#full)<br>\n",
      "[5. Stochastic methods (SGD, SAG, MISO, SDCA, SVRG)](#stoc)<br>\n",
      "[6. Generate  dataset](#data)<br>\n",
      "[7. Optimize (full gradient)](#optf)<br>\n",
      "[8. Optimize (stochastic)](#opts)<br>\n",
      "[Appendix](#appendix)"
     ]
    },
    {
     "cell_type": "code",
     "collapsed": false,
     "input": [
      "import numpy as np\n",
      "from numpy.linalg import norm\n",
      "\n",
      "%matplotlib inline\n",
      "import matplotlib.pylab as plt"
     ],
     "language": "python",
     "metadata": {},
     "outputs": [],
     "prompt_number": 1
    },
    {
     "cell_type": "markdown",
     "metadata": {},
     "source": [
      "<a id='loss'></a> \n",
      "## Loss functions and gradients"
     ]
    },
    {
     "cell_type": "markdown",
     "metadata": {},
     "source": [
      "Least squares:\n",
      "\n",
      "$$\n",
      "\\begin{align*}\n",
      "\\ell(\\theta; \\mathbf{x}, \\mathbf{y}) = \\frac{1}{2n}\\sum_{i=1}^n(\\theta^Tx_i - y_i)^2 \\\\\n",
      "\\frac{\\partial \\ell(\\theta; \\mathbf{x}, \\mathbf{y})}{\\partial\\theta} = \\frac{1}{n}\\sum_{i=1}^n(\\theta^Tx_i - y_i)x_i \\\\ \n",
      "\\end{align*}\n",
      "$$"
     ]
    },
    {
     "cell_type": "markdown",
     "metadata": {},
     "source": [
      "We use 2D numpy array for `features` and `labels` to take advantage of array magic."
     ]
    },
    {
     "cell_type": "code",
     "collapsed": false,
     "input": [
      "def least_squares(x, features, labels):\n",
      "    \"\"\"Evaluates the least square function.\"\"\"\n",
      "    n_samples = features.shape[0]\n",
      "    x = x.reshape(1, n_features)\n",
      "    loss_array = (features.dot(x.T) - labels) ** 2\n",
      "    return np.sum(loss_array, axis=0) / (2. * n_samples)"
     ],
     "language": "python",
     "metadata": {},
     "outputs": [],
     "prompt_number": 34
    },
    {
     "cell_type": "code",
     "collapsed": false,
     "input": [
      "def least_squares_grad(x, features, labels):\n",
      "    \"\"\"Evaluates the gradient of the least square function.\"\"\"\n",
      "    n_samples = features.shape[0]\n",
      "    x = x.reshape(1, n_features)  # Added for scipy.optimize compatibility\n",
      "    grad_array = (features.dot(x.T) - labels) * features\n",
      "    return np.sum(grad_array, axis=0) / n_samples"
     ],
     "language": "python",
     "metadata": {},
     "outputs": [],
     "prompt_number": 3
    },
    {
     "cell_type": "markdown",
     "metadata": {},
     "source": [
      "Logistic and loss:\n",
      "$$\n",
      "\\begin{align*}\n",
      "s(x) & = \\frac{1}{1+e^{-x}} \\\\\n",
      "\\ell(\\theta; \\mathbf{x}, \\mathbf{y}) & = \\frac{1}{n}\\sum_{i=1}^n\\log(1 + e^{(-y_i\\theta^Tx_i)}) \\\\\n",
      "\\frac{\\partial \\ell(\\theta; \\mathbf{x}, \\mathbf{y})}{\\partial\\theta} & = \\frac{1}{n}\\sum_{i=1}^n\\frac{-y_i x_i}{1+\\exp(y_i\\theta^T x_i)}\n",
      "\\end{align*}\n",
      "$$"
     ]
    },
    {
     "cell_type": "code",
     "collapsed": false,
     "input": [
      "logistic = lambda x: 1. / (1. + np.exp(-x))"
     ],
     "language": "python",
     "metadata": {},
     "outputs": [],
     "prompt_number": 4
    },
    {
     "cell_type": "code",
     "collapsed": false,
     "input": [
      "def logistic_loss(x, features, labels):\n",
      "    \"\"\"Evaluates the logistic loss function.\"\"\"\n",
      "    n_samples, n_features = features.shape\n",
      "    x = x.reshape(1, n_features)\n",
      "    loss_array = np.log(1 + np.exp(-labels * features.dot(x.T)))\n",
      "    return np.sum(loss_array, axis=0) / n_samples"
     ],
     "language": "python",
     "metadata": {},
     "outputs": [],
     "prompt_number": 5
    },
    {
     "cell_type": "code",
     "collapsed": false,
     "input": [
      "def logistic_loss_grad(x, features, labels):\n",
      "    \"\"\"Evaluates the gradient of the logistic loss.\"\"\"\n",
      "    n_samples = features.shape[0]\n",
      "    x = x.reshape(1, n_features)  # Added for scipy.optimize compatibility\n",
      "    grad_array = -labels / (1 + np.exp(labels * features.dot(x.T))) * features\n",
      "    return np.sum(grad_array, axis=0) / n_samples"
     ],
     "language": "python",
     "metadata": {},
     "outputs": [],
     "prompt_number": 6
    },
    {
     "cell_type": "markdown",
     "metadata": {},
     "source": [
      "<a id='mm_method'></a> \n",
      "## Proximal gradient derived from a majorization-minimization method\n",
      "\n",
      "Let's say we would like to minimize $f + g$, with $f: \\mathbb{R}^n \\rightarrow \\mathbb{R}$ a convex, $\\beta$-smooth function and $g$ a convex function with a simple proximal operator.\n",
      "\n",
      "A simple upper bound on $f+g$ is:\n",
      "\n",
      "$$\n",
      "\\begin{align*} \n",
      "f(y) + g(y) & \\leq \\{f(x) + \\nabla{f(x)^T}(y - x) + \\frac{1}{2\\lambda}\\|x-y\\|_{2}^2 + g(y)\\\\\n",
      "& = q_\\lambda(x, y),\n",
      "\\end{align*}\n",
      "$$\n",
      "where $\\lambda \\in (0, 1/\\beta]$.\n",
      "\n",
      "Iteratively minimizing $q_\\lambda(x^t, \\cdot)$ will converge the minimum of $f+g$ \n",
      "$$\n",
      "\\DeclareMathOperator*{\\argmin}{argmin}\n",
      "\\DeclareMathOperator*{\\prox}{prox}\n",
      "$$\n",
      "$$\n",
      "\\begin{align*} \n",
      "\\argmin_x q_\\lambda(x^t, x) & = \\argmin_x \\{f(x^t) + \\nabla{f(x^t)^T}(x - x^t) + \\frac{1}{2\\lambda}\\|x-x^t\\|_{2}^2 + g(x)\\} \\\\ \n",
      "& = \\argmin_x \\{\\frac{1}{2}\\|x - (x^t - \\lambda\\nabla f(x^t))\\|_2^2 + \\lambda g(x)\\} \\\\\n",
      "& = \\text{prox}_{\\lambda g}\\left(x^t - \\lambda\\nabla f(x^t)\\right) \\\\\n",
      "\\end{align*}\n",
      "$$"
     ]
    },
    {
     "cell_type": "markdown",
     "metadata": {},
     "source": [
      "<a id='prox'></a> \n",
      "## Proximal operators\n",
      "\n",
      "The derivation of the proximal operators leads to:\n",
      "\n",
      "$$\n",
      "\\begin{align*}\n",
      "\\text{prox}_{\\lambda\\|\\cdot\\|_1}(v) & = \\text{sign}(v) \\odot (|v| \u2212 \\lambda)_+ \\\\\n",
      "\\text{prox}_{\\lambda\\|\\cdot\\|_2^2}(v) & = \\frac{1}{1 + \\lambda} v \\\\\n",
      "\\text{prox}_{\\lambda_1\\|\\cdot\\|_1 + \\lambda_2 / 2\\|\\cdot\\|_2^2}(v) & = \\frac{1}{1 + \\lambda_2} \\text{sign}(v) \\odot (|v| - \\lambda_1)_+\n",
      "\\end{align*}\n",
      "$$"
     ]
    },
    {
     "cell_type": "code",
     "collapsed": false,
     "input": [
      "def prox_l1(x, l=1.):\n",
      "    \"\"\" Proximal operator of the l1 norm.\"\"\"\n",
      "    x_abs = np.abs(x)\n",
      "    return np.sign(x) * (x_abs - l) * (x_abs > l)\n",
      "\n",
      "def prox_l2(x, l=1.):\n",
      "    \"\"\" Proximal operator of the l2 norm.\"\"\"\n",
      "    return 1. / (1 + l) * x\n",
      "\n",
      "def prox_enet(x, l_l1, l_l2, t=1.):\n",
      "    \"\"\"Proximal operator for the elastic net at x\"\"\"\n",
      "    x_abs = np.abs(x)\n",
      "    prox_l1 = np.sign(x) * (x_abs - t * l_l1) * (x_abs > t * l_l1)\n",
      "    return prox_l1 / (1. + t * l_l2)"
     ],
     "language": "python",
     "metadata": {},
     "outputs": [],
     "prompt_number": 7
    },
    {
     "cell_type": "markdown",
     "metadata": {},
     "source": [
      "<a id='full'></a> \n",
      "## Full gradient methods (GD, ISTA, FISTA)"
     ]
    },
    {
     "cell_type": "markdown",
     "metadata": {},
     "source": [
      "Before implementing the logic of GD, ISTA or FISTA we provide a simple function to be called after each iteration to gather and display a few metrics about current the minimization process."
     ]
    },
    {
     "cell_type": "code",
     "collapsed": false,
     "input": [
      "def inspector(loss_fun, x_real, verbose=False):\n",
      "    \"\"\"A closure called to update metrics after each iteration.\"\"\"\n",
      "    objectives = []\n",
      "    errors = []\n",
      "    it = [0]  # This is a hack to be able to modify 'it' inside the closure.\n",
      "    def inspector_cl(xk):\n",
      "        obj = loss_fun(xk)\n",
      "        err = norm(xk - x_real) / norm(x_real)\n",
      "        objectives.append(obj)\n",
      "        errors.append(err)\n",
      "        if verbose == True:\n",
      "            if it[0] == 0:\n",
      "                print ' | '.join([name.center(8) for name in [\"it\", \"obj\", \"err\"]])\n",
      "            if it[0] % (n_iter / 5) == 0:\n",
      "                print ' | '.join([(\"%d\" % it[0]).rjust(8), (\"%.2e\" % obj).rjust(8), (\"%.2e\" % err).rjust(8)])\n",
      "            it[0] += 1\n",
      "    inspector_cl.obj = objectives\n",
      "    inspector_cl.err = errors\n",
      "    return inspector_cl"
     ],
     "language": "python",
     "metadata": {},
     "outputs": [],
     "prompt_number": 8
    },
    {
     "cell_type": "markdown",
     "metadata": {},
     "source": [
      "And now we can implement the algorithms."
     ]
    },
    {
     "cell_type": "code",
     "collapsed": false,
     "input": [
      "def gd(x_init, grad, n_iter=100, step=1., callback=None):\n",
      "    \"\"\"Basic gradient descent algorithm.\"\"\"\n",
      "    x = x_init.copy()\n",
      "    \n",
      "    for _ in range(n_iter):\n",
      "        x -= step * grad(x)\n",
      "        \n",
      "        # Update metrics after each iteration.\n",
      "        if callback is not None:\n",
      "            callback(x)\n",
      "    return x"
     ],
     "language": "python",
     "metadata": {},
     "outputs": [],
     "prompt_number": 9
    },
    {
     "cell_type": "code",
     "collapsed": false,
     "input": [
      "def ista(x_init, grad, prox, n_iter=100, step=1., callback=None):\n",
      "    \"\"\"ISTA algorithm.\"\"\"\n",
      "    x = x_init.copy()\n",
      "    \n",
      "    for _ in range(n_iter):\n",
      "        x = prox(x - step * grad(x), step)\n",
      "        \n",
      "        # Update metrics after each iteration.\n",
      "        if callback is not None:\n",
      "            callback(x)\n",
      "    return x"
     ],
     "language": "python",
     "metadata": {},
     "outputs": [],
     "prompt_number": 10
    },
    {
     "cell_type": "code",
     "collapsed": false,
     "input": [
      "def fista(x_init, grad, prox, n_iter=100, step=1., callback=None):\n",
      "    \"\"\"FISTA algorithm.\"\"\"\n",
      "    x = x_init.copy()\n",
      "    y = x_init.copy()\n",
      "    t = 1.\n",
      "    \n",
      "    for _ in range(n_iter):\n",
      "        x_new = prox(y - step * grad(y), step)\n",
      "        t_new = (1. + (1. + 4. * t**2)**.5) / 2\n",
      "        y = x_new + (t - 1) / t_new * (x_new - x)\n",
      "        t = t_new\n",
      "        x = x_new\n",
      "\n",
      "        # Update metrics after each iteration.\n",
      "        if callback is not None:\n",
      "            callback(x)\n",
      "    return x"
     ],
     "language": "python",
     "metadata": {},
     "outputs": [],
     "prompt_number": 11
    },
    {
     "cell_type": "markdown",
     "metadata": {},
     "source": [
      "<a id='stoc'></a> \n",
      "## Stochastic methods (SGD, SAG, MISO, SVRG)"
     ]
    },
    {
     "cell_type": "markdown",
     "metadata": {},
     "source": [
      "Same but for (more recent) stochastic algorithms."
     ]
    },
    {
     "cell_type": "code",
     "collapsed": false,
     "input": [
      "def sgd(x_init, features, labels, grad, n_iter=100, step=1., callback=None):\n",
      "    \"\"\"Stochastic gradient descent algorithm.\"\"\"\n",
      "    x = x_init.copy()\n",
      "    \n",
      "    n_samples, n_features = features.shape\n",
      "    \n",
      "    for i in range(n_iter):\n",
      "        idx = np.random.randint(n_samples)\n",
      "        feature = features[idx].reshape(1, n_features)\n",
      "        label = labels[idx]\n",
      "        x -= step * grad(x, feature, label) / (n_samples * np.sqrt(i + 1))\n",
      "        \n",
      "        # Update metrics after each iteration.\n",
      "        if callback is not None:\n",
      "            callback(x)\n",
      "    return x"
     ],
     "language": "python",
     "metadata": {},
     "outputs": [],
     "prompt_number": 12
    },
    {
     "cell_type": "code",
     "collapsed": false,
     "input": [
      "def sag(x_init, features, labels, grad, n_iter=100, step=1., callback=None):\n",
      "    \"\"\"Stochastic average gradient algorithm.\"\"\"\n",
      "    x = x_init.copy()\n",
      "    \n",
      "    n_samples, n_features = features.shape\n",
      "    y_old = np.zeros((n_samples, n_features))\n",
      "    y = np.zeros(n_features)\n",
      "    \n",
      "    for _ in range(n_iter):\n",
      "        idx = np.random.randint(n_samples)\n",
      "        feature = features[idx].reshape(1, n_features)\n",
      "        label = labels[idx]\n",
      "        y_new = grad(x, feature, label)\n",
      "        y += (y_new - y_old[idx]) / n_samples\n",
      "        y_old[idx] = y_new\n",
      "        x -= step * y / n_samples\n",
      "        \n",
      "        # Update metrics after each iteration.\n",
      "        if callback is not None:\n",
      "            callback(x)\n",
      "    return x\n",
      "    "
     ],
     "language": "python",
     "metadata": {},
     "outputs": [],
     "prompt_number": 13
    },
    {
     "cell_type": "code",
     "collapsed": false,
     "input": [
      "def miso(x_init, features, labels, grad, prox, n_iter=100, step=1., callback=None):\n",
      "    \"\"\"MISO algorithm.\"\"\"\n",
      "    x = x_init.copy()\n",
      "    \n",
      "    n_samples, n_features = features.shape\n",
      "    z_old = np.zeros((n_samples, n_features))\n",
      "    z = np.zeros(n_features)\n",
      "    \n",
      "    for _ in range(n_iter):\n",
      "        idx = np.random.randint(n_samples)\n",
      "        feature = features[idx].reshape(1, n_features)\n",
      "        label = labels[idx]\n",
      "        z_new = grad(x, feature, label) \n",
      "        z += (z_new - z_old[idx]) / n_samples\n",
      "        z_old[idx] = z_new\n",
      "        x = prox(x - step * z, step)\n",
      "        \n",
      "        # Update metrics after each iteration.\n",
      "        if callback is not None:\n",
      "            callback(x)\n",
      "    return x"
     ],
     "language": "python",
     "metadata": {},
     "outputs": [],
     "prompt_number": 14
    },
    {
     "cell_type": "code",
     "collapsed": false,
     "input": [
      "def svrg(x_init, features, labels, grad, n_iter=100, batch_size=10, step=1., callback=None):\n",
      "    \"\"\"Stochastic variance reduction gradient algorithm.\"\"\"\n",
      "    x = x_init.copy()\n",
      "    \n",
      "    n_samples, n_features = features.shape\n",
      "    x_old = sgd(x_init, features, labels, grad, n_iter=batch_size, step=step, callback=None)\n",
      "    mu = grad(x_old, features, labels)\n",
      "    \n",
      "    x = x_old\n",
      "    for i in range(n_iter):\n",
      "        if i % batch_size == 0:\n",
      "            x_old = x\n",
      "            mu = grad(x, features, labels)\n",
      "        idx = np.random.randint(n_samples)\n",
      "        feature = features[idx].reshape(1, n_features)\n",
      "        label = labels[idx]\n",
      "        z_new = grad(x, feature, label)\n",
      "        z_old = grad(x_old, feature, label)\n",
      "        x -= step * (z_new - z_old + mu) / n_samples\n",
      "        \n",
      "        # Update metrics after each iteration.\n",
      "        if callback is not None:\n",
      "            callback(x)\n",
      "    return x"
     ],
     "language": "python",
     "metadata": {},
     "outputs": [],
     "prompt_number": 15
    },
    {
     "cell_type": "code",
     "collapsed": false,
     "input": [
      "def sdca(x_init, features, labels, grad, n_iter=100, step=1., callback=None):\n",
      "    \"\"\"Stochastic dual coordinate ascent.\"\"\"\n",
      "    x = x_init.copy()\n",
      "    \n",
      "    # TODO\n",
      "        \n",
      "        # Update metrics after each iteration.\n",
      "        if callback is not None:\n",
      "            callback(x)\n",
      "    return x"
     ],
     "language": "python",
     "metadata": {},
     "outputs": [
      {
       "ename": "IndentationError",
       "evalue": "unexpected indent (<ipython-input-16-2ee839f8e03f>, line 8)",
       "output_type": "pyerr",
       "traceback": [
        "\u001b[0;36m  File \u001b[0;32m\"<ipython-input-16-2ee839f8e03f>\"\u001b[0;36m, line \u001b[0;32m8\u001b[0m\n\u001b[0;31m    if callback is not None:\u001b[0m\n\u001b[0m    ^\u001b[0m\n\u001b[0;31mIndentationError\u001b[0m\u001b[0;31m:\u001b[0m unexpected indent\n"
       ]
      }
     ],
     "prompt_number": 16
    },
    {
     "cell_type": "markdown",
     "metadata": {},
     "source": [
      "<a id='data'></a> \n",
      "## Generate  dataset"
     ]
    },
    {
     "cell_type": "markdown",
     "metadata": {},
     "source": [
      "We test the above algorithms on a generated dataset. "
     ]
    },
    {
     "cell_type": "code",
     "collapsed": false,
     "input": [
      "# Generate a fake dataset\n",
      "\n",
      "n_samples = 2000\n",
      "n_features = 50\n",
      "\n",
      "idx = np.arange(n_features).reshape(1, n_features)\n",
      "params = 2 * (-1) ** (idx - 1) * .9**idx\n",
      "params[0, 20:50] = 0\n",
      "diag = np.random.rand(n_features)\n",
      "features = np.random.multivariate_normal(np.zeros(n_features), np.diag(diag), n_samples)\n",
      "\n",
      "# Show the condition number of the gram matrix\n",
      "print \"cond = %.2f\" % (diag.max() / diag.min())"
     ],
     "language": "python",
     "metadata": {},
     "outputs": [
      {
       "output_type": "stream",
       "stream": "stdout",
       "text": [
        "cond = 83.77\n"
       ]
      }
     ],
     "prompt_number": 17
    },
    {
     "cell_type": "code",
     "collapsed": false,
     "input": [
      "# Change this to 'False' to estimate the logitic regression model.\n",
      "linear = True\n",
      "if linear == True:\n",
      "    residuals = np.random.randn(n_samples, 1)\n",
      "    labels = features.dot(params.T) + residuals\n",
      "else:\n",
      "    labels = np.array([[float(np.random.rand() < p)] for p in logistic(features.dot(params.T))])"
     ],
     "language": "python",
     "metadata": {},
     "outputs": [],
     "prompt_number": 18
    },
    {
     "cell_type": "code",
     "collapsed": false,
     "input": [
      "plt.figure(figsize=(8, 4))\n",
      "plt.stem(params[0])\n",
      "plt.title(\"True parameters\", fontsize=16)\n",
      "plt.show()"
     ],
     "language": "python",
     "metadata": {},
     "outputs": [
      {
       "metadata": {},
       "output_type": "display_data",
       "png": "[encoded data removed]",
       "text": [
        "<matplotlib.figure.Figure at 0x107a4b590>"
       ]
      }
     ],
     "prompt_number": 19
    },
    {
     "cell_type": "markdown",
     "metadata": {},
     "source": [
      "<a id='optf'></a> \n",
      "## Optimize (full gradient)"
     ]
    },
    {
     "cell_type": "markdown",
     "metadata": {},
     "source": [
      "### Choosing the step size\n",
      "\n",
      "All algorithms use a constant step size set to $1/L$, where $L$ is a Lipschitz constant for the gradient of the loss.\n",
      "\n",
      "1.Least squares\n",
      "\n",
      "$$L = \\frac{ \\|\\mathbf{x}^T \\mathbf{x}\\|_{op}}{n}$$\n",
      "\n",
      "2.Logistic loss\n",
      "$$L = \\frac{\\underset{i}{\\max}(\\|x_i\\|_2^2)}{4n} $$"
     ]
    },
    {
     "cell_type": "code",
     "collapsed": false,
     "input": [
      "# Initialize stuff\n",
      "x_init = 1 - 2 * np.random.rand(1, n_features)\n",
      "n_iter = 30\n",
      "l_l1 = 0.0\n",
      "l_l2 = 0.1\n",
      "\n",
      "# f and gradient\n",
      "if linear == True:\n",
      "    f = lambda x: least_squares(x, features, labels)\n",
      "    grad_f = lambda x: least_squares_grad(x, features, labels)\n",
      "    step = norm(features.T.dot(features) / n_samples, 2)\n",
      "else:\n",
      "    f = lambda x: logistic_loss(x, features, labels)[0]\n",
      "    grad_f = lambda x: logistic_loss_grad(x, features, labels)\n",
      "    step = 1. # np.sum(features**2, axis=1).max() / (4 * n_samples)\n",
      "\n",
      "# g, F and prox.\n",
      "g = lambda x: l_l1 * np.abs(x).sum() + 0.5 * l_l2 * np.sum(x**2)\n",
      "F = lambda x: f(x) + g(x)\n",
      "prox_g = lambda x, l: prox_enet(x, l_l1, l_l2, l)\n",
      "\n",
      "print \"Type: %s\" % ('linear' if linear else 'logistic')\n",
      "print \"n_iter: %d\" % n_iter\n",
      "print \"step size: %.2f\" % step"
     ],
     "language": "python",
     "metadata": {},
     "outputs": [
      {
       "output_type": "stream",
       "stream": "stdout",
       "text": [
        "Type: linear\n",
        "n_iter: 30\n",
        "step size: 1.04\n"
       ]
      }
     ],
     "prompt_number": 20
    },
    {
     "cell_type": "code",
     "collapsed": false,
     "input": [
      "import scipy.optimize"
     ],
     "language": "python",
     "metadata": {},
     "outputs": [],
     "prompt_number": 22
    },
    {
     "cell_type": "code",
     "collapsed": false,
     "input": [
      "ls = lambda x: logistic_loss(x, features, labels)\n",
      "print scipy.optimize.approx_fprime(x_init.ravel(), ls, 1e-3)\n",
      "print logistic_loss_grad(x_init, features, labels)"
     ],
     "language": "python",
     "metadata": {},
     "outputs": [
      {
       "output_type": "stream",
       "stream": "stdout",
       "text": [
        "[ 0.30424101 -0.26230376  0.4674678  -0.16728611  0.11170092 -0.08324431\n",
        "  0.35837712 -0.1988963   0.10854892 -0.10317867  0.10031488  0.00586717\n",
        "  0.0221764  -0.12311822  0.00355377 -0.11660948  0.02513881 -0.06978285\n",
        "  0.27948178 -0.20718274 -0.15874555 -0.13193407  0.04810521  0.13370537\n",
        " -0.00458892  0.05095335 -0.06442196  0.07053449  0.05177863  0.10642691\n",
        " -0.09323656 -0.21188971 -0.0784917   0.33497437  0.07748511 -0.20380341\n",
        "  0.0670902   0.02193815  0.15782084 -0.07780451 -0.03801027 -0.12387279\n",
        "  0.09561104  0.06024432 -0.11468991  0.2260843   0.07523159 -0.23414648\n",
        "  0.01797566  0.08944417]\n",
        "[ 0.30413249 -0.26240177  0.46732437 -0.16733445  0.11164676 -0.08330004\n",
        "  0.3582644  -0.19901026  0.10852345 -0.10325725  0.10021726  0.00585475\n",
        "  0.02217071 -0.12326196  0.00354838 -0.11665473  0.02512696 -0.06986414\n",
        "  0.27938023 -0.20736488 -0.15881298 -0.13204417  0.04805784  0.13355314\n",
        " -0.0045907   0.05082515 -0.06452787  0.07044994  0.05168006  0.10637235\n",
        " -0.0933726  -0.21198799 -0.07857703  0.33478578  0.07737347 -0.20389057\n",
        "  0.06703433  0.02192291  0.15774254 -0.07792483 -0.03811912 -0.1239431\n",
        "  0.09546933  0.0601289  -0.114753    0.22595846  0.07515347 -0.23427506\n",
        "  0.01789923  0.0893184 ]\n"
       ]
      }
     ],
     "prompt_number": 36
    },
    {
     "cell_type": "raw",
     "metadata": {},
     "source": []
    },
    {
     "cell_type": "code",
     "collapsed": false,
     "input": [],
     "language": "python",
     "metadata": {},
     "outputs": []
    },
    {
     "cell_type": "code",
     "collapsed": false,
     "input": [
      "plt.figure(figsize=(8, 4))\n",
      "plt.stem(x_init[0])\n",
      "plt.title(\"Initial guess\", fontsize=16)\n",
      "plt.show()"
     ],
     "language": "python",
     "metadata": {},
     "outputs": [
      {
       "metadata": {},
       "output_type": "display_data",
       "png": "[encoded data removed]",
       "text": [
        "<matplotlib.figure.Figure at 0x108a9c310>"
       ]
      }
     ],
     "prompt_number": 21
    },
    {
     "cell_type": "code",
     "collapsed": false,
     "input": [
      "# ISTA\n",
      "ista_inspector = inspector(loss_fun=F, x_real=params, verbose=True)\n",
      "x_ista = ista(x_init, grad=grad_f, prox=prox_g, n_iter=n_iter, step=step, callback=ista_inspector)"
     ],
     "language": "python",
     "metadata": {},
     "outputs": [
      {
       "output_type": "stream",
       "stream": "stdout",
       "text": [
        "   it    |   obj    |   err   \n",
        "       0 | 2.47e+00 | 8.32e-01\n",
        "       6 | 1.27e+00 | 4.47e-01\n",
        "      12 | 1.25e+00 | 3.98e-01\n",
        "      18 | 1.24e+00 | 3.84e-01\n",
        "      24 | 1.24e+00 | 3.78e-01\n"
       ]
      }
     ],
     "prompt_number": 22
    },
    {
     "cell_type": "code",
     "collapsed": false,
     "input": [
      "# FISTA\n",
      "fista_inspector = inspector(loss_fun=F, x_real=params, verbose=True)\n",
      "x_fista = fista(x_init, grad=grad_f, prox=prox_g, n_iter=n_iter, step=step, callback=fista_inspector)"
     ],
     "language": "python",
     "metadata": {},
     "outputs": [
      {
       "output_type": "stream",
       "stream": "stdout",
       "text": [
        "   it    |   obj    |   err   \n",
        "       0 | 2.47e+00 | 8.32e-01\n",
        "       6 | 1.25e+00 | 3.92e-01\n",
        "      12 | 1.24e+00 | 3.69e-01\n",
        "      18 | 1.24e+00 | 3.75e-01\n",
        "      24 | 1.24e+00 | 3.75e-01\n"
       ]
      }
     ],
     "prompt_number": 23
    },
    {
     "cell_type": "code",
     "collapsed": false,
     "input": [
      "# Gradient descent\n",
      "grad_gd = lambda x: grad_f(x) + l_l1 * np.abs(x) + l_l2 * x\n",
      "gd_inspector = inspector(loss_fun=F, x_real=params, verbose=True)\n",
      "x_gd = gd(x_init, grad=grad_gd, n_iter=n_iter, step=step, callback=gd_inspector)"
     ],
     "language": "python",
     "metadata": {},
     "outputs": [
      {
       "output_type": "stream",
       "stream": "stdout",
       "text": [
        "   it    |   obj    |   err   \n",
        "       0 | 2.30e+00 | 7.96e-01\n",
        "       6 | 1.26e+00 | 4.35e-01\n",
        "      12 | 1.25e+00 | 3.93e-01\n",
        "      18 | 1.24e+00 | 3.81e-01\n",
        "      24 | 1.24e+00 | 3.77e-01\n"
       ]
      }
     ],
     "prompt_number": 24
    },
    {
     "cell_type": "code",
     "collapsed": false,
     "input": [
      "plt.figure(figsize=(18, 5))\n",
      "plt.suptitle(\"Final estimates\", fontsize=18)\n",
      "plt.subplot(1, 4, 1)\n",
      "plt.title(\"Real params\")\n",
      "plt.stem(params[0])\n",
      "plt.subplot(1, 4, 2)\n",
      "plt.title(\"ISTA\")\n",
      "plt.stem(x_ista[0], color='red')\n",
      "plt.subplot(1, 4, 3)\n",
      "plt.title(\"FISTA\")\n",
      "plt.stem(x_fista[0])\n",
      "plt.subplot(1, 4, 4)\n",
      "plt.title(\"GD\")\n",
      "plt.stem(x_gd[0])\n",
      "plt.show()"
     ],
     "language": "python",
     "metadata": {},
     "outputs": [
      {
       "metadata": {},
       "output_type": "display_data",
       "png": "[encoded data removed]",
       "text": [
        "<matplotlib.figure.Figure at 0x108d928d0>"
       ]
      }
     ],
     "prompt_number": 25
    },
    {
     "cell_type": "code",
     "collapsed": false,
     "input": [
      "plt.figure(figsize=(17, 5))\n",
      "plt.subplot(1, 2, 1)\n",
      "plt.plot(gd_inspector.obj, 'b')\n",
      "plt.plot(ista_inspector.obj, 'r')\n",
      "plt.plot(fista_inspector.obj, 'g')\n",
      "plt.title(\"Loss\", fontsize=18)\n",
      "plt.xlabel(\"iteration\", fontsize=14)\n",
      "plt.ylabel(\"value\", fontsize=14)\n",
      "plt.legend([\"gd\", \"ista\", \"fista\"])\n",
      "plt.subplot(1, 2, 2)\n",
      "plt.plot(gd_inspector.err, 'b')\n",
      "plt.plot(ista_inspector.err, 'r')\n",
      "plt.plot(fista_inspector.err, 'g')\n",
      "plt.title(\"Distance to x_real\", fontsize=18)\n",
      "plt.xlabel(\"iteration\", fontsize=14)\n",
      "plt.ylabel(\"distance\", fontsize=14)\n",
      "plt.legend([\"gd\", \"ista\", \"fista\"])\n",
      "plt.show()"
     ],
     "language": "python",
     "metadata": {},
     "outputs": [
      {
       "metadata": {},
       "output_type": "display_data",
       "png": "[encoded data removed]",
       "text": [
        "<matplotlib.figure.Figure at 0x109a62e90>"
       ]
      }
     ],
     "prompt_number": 26
    },
    {
     "cell_type": "markdown",
     "metadata": {},
     "source": [
      "<a id='opts'></a> \n",
      "## Optimize (stochastic)"
     ]
    },
    {
     "cell_type": "code",
     "collapsed": false,
     "input": [
      "n_iter = 10 * n_samples\n",
      "\n",
      "# Initialize stuff\n",
      "if linear == True:\n",
      "    f = lambda x: least_squares(x, features, labels)[0]\n",
      "    grad_stoc = least_squares_grad\n",
      "    L = norm(features.T.dot(features), 2)  / n_samples\n",
      "else:\n",
      "    f = lambda x: logistic_loss(x, features, labels)[0]\n",
      "    grad_stoc = logistic_loss_grad\n",
      "    L = 1. #4. * n_samples / np.sum(features**2, axis=1).max()\n",
      "\n",
      "print \"Type: %s\" % ('linear' if linear else 'logistic')\n",
      "print \"n_iter: %d\" % n_iter\n",
      "print \"step size: %.2f\" % step"
     ],
     "language": "python",
     "metadata": {},
     "outputs": [
      {
       "output_type": "stream",
       "stream": "stdout",
       "text": [
        "Type: linear\n",
        "n_iter: 20000\n",
        "step size: 1.09\n"
       ]
      }
     ],
     "prompt_number": 38
    },
    {
     "cell_type": "code",
     "collapsed": false,
     "input": [
      "plt.figure(figsize=(8, 4))\n",
      "plt.stem(x_init[0])\n",
      "plt.title(\"Initial guess\", fontsize=16)\n",
      "plt.show()"
     ],
     "language": "python",
     "metadata": {},
     "outputs": [
      {
       "metadata": {},
       "output_type": "display_data",
       "png": "[encoded data removed]",
       "text": [
        "<matplotlib.figure.Figure at 0x10a219b90>"
       ]
      }
     ],
     "prompt_number": 39
    },
    {
     "cell_type": "code",
     "collapsed": false,
     "input": [
      "grad_step = 10. / L\n",
      "grad_sgd = lambda x, feat, lab: grad_stoc(x, feat, lab) + l_l2 * x[0]\n",
      "sgd_inspector = inspector(loss_fun=F, x_real=params, verbose=True)\n",
      "x_sgd = sgd(x_init, features=features, labels=labels, grad=grad_sgd, n_iter=n_iter, step=step, callback=sgd_inspector)"
     ],
     "language": "python",
     "metadata": {},
     "outputs": [
      {
       "output_type": "stream",
       "stream": "stdout",
       "text": [
        "   it    |   obj    |   err   \n",
        "       0 | 1.28e+01 | 1.48e+00\n",
        "    4000 | 1.16e+01 | 1.43e+00"
       ]
      },
      {
       "output_type": "stream",
       "stream": "stdout",
       "text": [
        "\n",
        "    8000 | 1.12e+01 | 1.41e+00"
       ]
      },
      {
       "output_type": "stream",
       "stream": "stdout",
       "text": [
        "\n",
        "   12000 | 1.08e+01 | 1.39e+00"
       ]
      },
      {
       "output_type": "stream",
       "stream": "stdout",
       "text": [
        "\n",
        "   16000 | 1.05e+01 | 1.38e+00"
       ]
      },
      {
       "output_type": "stream",
       "stream": "stdout",
       "text": [
        "\n"
       ]
      }
     ],
     "prompt_number": 40
    },
    {
     "cell_type": "code",
     "collapsed": false,
     "input": [
      "sag_step = 1. / L\n",
      "grad_sag = lambda x, feat, lab: grad_stoc(x, feat, lab) + l_l2 * x[0]\n",
      "sag_inspector = inspector(loss_fun=F, x_real=params, verbose=True)\n",
      "x_sag = sag(x_init, features=features, labels=labels, grad=grad_sag, n_iter=n_iter, step=step, callback=sag_inspector)"
     ],
     "language": "python",
     "metadata": {},
     "outputs": [
      {
       "output_type": "stream",
       "stream": "stdout",
       "text": [
        "   it    |   obj    |   err   \n",
        "       0 | 1.28e+01 | 1.49e+00\n",
        "    4000 | 2.43e+00 | 8.13e-01"
       ]
      },
      {
       "output_type": "stream",
       "stream": "stdout",
       "text": [
        "\n",
        "    8000 | 1.53e+00 | 5.41e-01"
       ]
      },
      {
       "output_type": "stream",
       "stream": "stdout",
       "text": [
        "\n",
        "   12000 | 1.30e+00 | 4.55e-01"
       ]
      },
      {
       "output_type": "stream",
       "stream": "stdout",
       "text": [
        "\n",
        "   16000 | 1.26e+00 | 4.24e-01"
       ]
      },
      {
       "output_type": "stream",
       "stream": "stdout",
       "text": [
        "\n"
       ]
      }
     ],
     "prompt_number": 41
    },
    {
     "cell_type": "code",
     "collapsed": false,
     "input": [
      "miso_step = 1. / L\n",
      "prox_g = lambda x, l: prox_enet(x, l_l1, l_l2, l)\n",
      "miso_inspector = inspector(loss_fun=F, x_real=params, verbose=True)\n",
      "x_miso = miso(x_init, features, labels, grad=grad_stoc, prox=prox_g, n_iter=n_iter, step=step,\n",
      "              callback=miso_inspector)"
     ],
     "language": "python",
     "metadata": {},
     "outputs": [
      {
       "output_type": "stream",
       "stream": "stdout",
       "text": [
        "   it    |   obj    |   err   \n",
        "       0 | 1.17e+01 | 1.42e+00\n",
        "    4000 | 1.26e+00 | 3.76e-01"
       ]
      },
      {
       "output_type": "stream",
       "stream": "stdout",
       "text": [
        "\n",
        "    8000 | 1.25e+00 | 3.76e-01"
       ]
      },
      {
       "output_type": "stream",
       "stream": "stdout",
       "text": [
        "\n",
        "   12000 | 1.24e+00 | 3.74e-01"
       ]
      },
      {
       "output_type": "stream",
       "stream": "stdout",
       "text": [
        "\n",
        "   16000 | 1.24e+00 | 3.74e-01"
       ]
      },
      {
       "output_type": "stream",
       "stream": "stdout",
       "text": [
        "\n"
       ]
      }
     ],
     "prompt_number": 42
    },
    {
     "cell_type": "code",
     "collapsed": false,
     "input": [
      "svrg_step = 1. / L\n",
      "grad_svrg = lambda x, feat, lab: grad_stoc(x, feat, lab) + l_l2 * x[0]\n",
      "svrg_inspector = inspector(loss_fun=F, x_real=params, verbose=True)\n",
      "x_svrg = svrg(x_init, features, labels, grad=grad_svrg, n_iter=n_iter, batch_size=100, step=svrg_step, callback=svrg_inspector)"
     ],
     "language": "python",
     "metadata": {},
     "outputs": [
      {
       "output_type": "stream",
       "stream": "stdout",
       "text": [
        "   it    |   obj    |   err   \n",
        "       0 | 1.27e+01 | 1.48e+00\n",
        "    4000 | 2.22e+00 | 7.60e-01"
       ]
      },
      {
       "output_type": "stream",
       "stream": "stdout",
       "text": [
        "\n",
        "    8000 | 1.46e+00 | 5.75e-01"
       ]
      },
      {
       "output_type": "stream",
       "stream": "stdout",
       "text": [
        "\n",
        "   12000 | 1.32e+00 | 4.96e-01"
       ]
      },
      {
       "output_type": "stream",
       "stream": "stdout",
       "text": [
        "\n",
        "   16000 | 1.28e+00 | 4.54e-01"
       ]
      },
      {
       "output_type": "stream",
       "stream": "stdout",
       "text": [
        "\n"
       ]
      }
     ],
     "prompt_number": 43
    },
    {
     "cell_type": "code",
     "collapsed": false,
     "input": [
      "plt.figure(figsize=(17, 5))\n",
      "plt.subplot(1, 2, 1)\n",
      "it = np.linspace(0, float(n_iter) / n_samples, n_iter)\n",
      "plt.plot(it, sgd_inspector.obj, 'b')\n",
      "plt.plot(it, sag_inspector.obj, 'r')\n",
      "plt.plot(it, miso_inspector.obj, 'g')\n",
      "plt.plot(it, svrg_inspector.obj, 'y')\n",
      "plt.title(\"Loss\", fontsize=18)\n",
      "plt.xlabel(\"iteration\", fontsize=14)\n",
      "plt.ylabel(\"value\", fontsize=14)\n",
      "plt.legend([\"sgd\", \"sag\", \"miso\", \"svrg\"])\n",
      "plt.subplot(1, 2, 2)\n",
      "plt.plot(it, sgd_inspector.err, 'b')\n",
      "plt.plot(it, sag_inspector.err, 'r')\n",
      "plt.plot(it, miso_inspector.err, 'g')\n",
      "plt.plot(it, svrg_inspector.err, 'y')\n",
      "plt.title(\"Distance to x_real\", fontsize=18)\n",
      "plt.xlabel(\"iteration\", fontsize=14)\n",
      "plt.ylabel(\"distance\", fontsize=14)\n",
      "plt.legend([\"sgd\", \"sag\", \"miso\", \"svrg\"])\n",
      "plt.show()"
     ],
     "language": "python",
     "metadata": {},
     "outputs": [
      {
       "metadata": {},
       "output_type": "display_data",
       "png": "[encoded data removed]",
       "text": [
        "<matplotlib.figure.Figure at 0x108865e50>"
       ]
      }
     ],
     "prompt_number": 44
    },
    {
     "cell_type": "code",
     "collapsed": false,
     "input": [
      "plt.figure(figsize=(18, 10))\n",
      "plt.suptitle(\"Final estimates\", fontsize=18)\n",
      "plt.subplot(2, 4, 1)\n",
      "plt.title(\"Real params\")\n",
      "plt.stem(params[0])\n",
      "plt.subplot(2, 4, 2)\n",
      "plt.title(\"SGD\")\n",
      "plt.stem(x_sgd[0], color='red')\n",
      "plt.subplot(2, 4, 3)\n",
      "plt.title(\"SAG\")\n",
      "plt.stem(x_sag[0])\n",
      "plt.subplot(2, 4, 4)\n",
      "plt.title(\"MISO\")\n",
      "plt.stem(x_miso[0])\n",
      "plt.subplot(2, 4, 5)\n",
      "plt.title(\"SVRG\")\n",
      "plt.stem(x_svrg[0])\n",
      "plt.show()"
     ],
     "language": "python",
     "metadata": {},
     "outputs": [
      {
       "metadata": {},
       "output_type": "display_data",
       "png": "[encoded data removed]",
       "text": [
        "<matplotlib.figure.Figure at 0x108865e90>"
       ]
      }
     ],
     "prompt_number": 45
    },
    {
     "cell_type": "markdown",
     "metadata": {},
     "source": [
      "<a id='appendix'></a> \n",
      "## Appendix"
     ]
    },
    {
     "cell_type": "markdown",
     "metadata": {},
     "source": [
      "### 1. scipy.optimize methods"
     ]
    },
    {
     "cell_type": "code",
     "collapsed": false,
     "input": [
      "n_iter = 50"
     ],
     "language": "python",
     "metadata": {},
     "outputs": [],
     "prompt_number": 46
    },
    {
     "cell_type": "code",
     "collapsed": false,
     "input": [
      "# Conjugate gradient descent\n",
      "from scipy.optimize import fmin_cg\n",
      "\n",
      "cg_inspector = inspector(loss_fun=F, x_real=params, verbose=True)\n",
      "res_cg = fmin_cg(F, x_init.ravel(), fprime=grad_gd, maxiter=n_iter, callback=cg_inspector)"
     ],
     "language": "python",
     "metadata": {},
     "outputs": [
      {
       "output_type": "stream",
       "stream": "stdout",
       "text": [
        "   it    |   obj    |   err   \n",
        "       0 | 6.24e+00 | 8.27e-01\n",
        "Warning: Desired error not necessarily achieved due to precision loss."
       ]
      },
      {
       "output_type": "stream",
       "stream": "stdout",
       "text": [
        "\n",
        "         Current function value: 6.239769\n",
        "         Iterations: 1\n",
        "         Function evaluations: 27\n",
        "         Gradient evaluations: 15\n"
       ]
      }
     ],
     "prompt_number": 47
    },
    {
     "cell_type": "code",
     "collapsed": false,
     "input": [
      "# L-BFGS-B\n",
      "from scipy.optimize import fmin_l_bfgs_b\n",
      "\n",
      "lbfgs_inspector = inspector(loss_fun=F, x_real=params, verbose=True)\n",
      "res_lbfgs = fmin_l_bfgs_b(F, x_init.ravel(), fprime=grad_gd, maxiter=n_iter, callback=lbfgs_inspector)"
     ],
     "language": "python",
     "metadata": {},
     "outputs": [
      {
       "output_type": "stream",
       "stream": "stdout",
       "text": [
        "   it    |   obj    |   err   \n",
        "       0 | 6.21e+00 | 1.30e+00\n"
       ]
      }
     ],
     "prompt_number": 48
    },
    {
     "cell_type": "code",
     "collapsed": false,
     "input": [
      "plt.figure(figsize=(15, 5))\n",
      "plt.subplot(1, 2, 1)\n",
      "plt.plot(gd_inspector.obj, 'b')\n",
      "plt.plot(ista_inspector.obj, 'r')\n",
      "plt.plot(fista_inspector.obj, 'g')\n",
      "plt.plot(cg_inspector.obj, 'y')\n",
      "plt.plot(lbfgs_inspector.obj, 'pink')\n",
      "plt.title(\"Loss\", fontsize=18)\n",
      "plt.xlabel(\"iteration\", fontsize=14)\n",
      "plt.ylabel(\"value\", fontsize=14)\n",
      "plt.legend([\"gd\", \"ista\", \"fista\", \"cg\", \"l-bfgs-b\"])\n",
      "plt.subplot(1, 2, 2)\n",
      "plt.plot(gd_inspector.err, 'b')\n",
      "plt.plot(ista_inspector.err, 'r')\n",
      "plt.plot(fista_inspector.err, 'g')\n",
      "plt.plot(cg_inspector.err, 'y')\n",
      "plt.plot(lbfgs_inspector.err, 'pink')\n",
      "plt.title(\"Distance to x_real\", fontsize=18)\n",
      "plt.xlabel(\"iteration\", fontsize=14)\n",
      "plt.ylabel(\"distance\", fontsize=14)\n",
      "plt.legend([\"gd\", \"ista\", \"fista\", \"cg\", \"l-bfgs-b\"])\n",
      "plt.show()"
     ],
     "language": "python",
     "metadata": {},
     "outputs": [
      {
       "metadata": {},
       "output_type": "display_data",
       "png": "[encoded data removed]",
       "text": [
        "<matplotlib.figure.Figure at 0x109b1c510>"
       ]
      }
     ],
     "prompt_number": 49
    },
    {
     "cell_type": "markdown",
     "metadata": {},
     "source": [
      "### 2. Cond. number"
     ]
    },
    {
     "cell_type": "code",
     "collapsed": false,
     "input": [
      "def contours(f, xlim=(-10, 10), ylim=(-10, 10)):\n",
      "    \n",
      "    def apply_to_grid(f, xlim, ylim, s=100j):\n",
      "        X, Y = np.mgrid[xlim[0]:xlim[1]:s, ylim[0]:ylim[1]:s]\n",
      "        z = positions = np.vstack([X.ravel(), Y.ravel()]).T\n",
      "        return X, Y, np.reshape(f(z), (100, 100))\n",
      "    \n",
      "    loss = lambda x: f(x, features, labels)\n",
      "    X, Y, Z = apply_to_grid(loss, xlim, ylim)\n",
      "\n",
      "    plt.xlabel(r\"$x_1$\", fontsize=18)\n",
      "    plt.ylabel(r\"$x_2$\", fontsize=18)\n",
      "    plt.pcolor(X, Y, Z, cmap=plt.cm.RdBu)\n",
      "    CS = plt.contour(X, Y, Z, colors='k')\n",
      "    plt.clabel(CS, inline=1, fontsize=10)\n",
      "    plt.grid(True)\n",
      "\n",
      "plt.figure(figsize=(14, 6))\n",
      "plt.suptitle(\"Contours of the loss\", fontsize=18)\n",
      "\n",
      "n_samples = 2000\n",
      "n_features = 2\n",
      "\n",
      "plt.subplot(1, 2, 1)\n",
      "plt.title(r\"$\\lambda_{max} / \\lambda_{min} = 1$\", fontsize=16)\n",
      "params = 1 - 2 * np.random.rand(1, n_features)\n",
      "diag = np.array([.1, .1])\n",
      "features = np.random.multivariate_normal(np.zeros(n_features), np.diag(diag), n_samples)\n",
      "labels = np.array([np.random.rand() < p for p in logistic(features.dot(params.T))])\n",
      "contours(least_squares)\n",
      "\n",
      "plt.subplot(1, 2, 2)\n",
      "plt.title(r\"$\\lambda_{max} / \\lambda_{min} = 10$\", fontsize=16)\n",
      "params = 1 - 2 * np.random.rand(1, n_features)\n",
      "diag = np.array([.01, .1])\n",
      "features = np.random.multivariate_normal(np.zeros(n_features), np.diag(diag), n_samples)\n",
      "labels = np.array([np.random.rand() < p for p in logistic(features.dot(params.T))])\n",
      "contours(least_squares)\n",
      "plt.show()"
     ],
     "language": "python",
     "metadata": {},
     "outputs": [
      {
       "ename": "ValueError",
       "evalue": "total size of new array must be unchanged",
       "output_type": "pyerr",
       "traceback": [
        "\u001b[0;31m---------------------------------------------------------------------------\u001b[0m\n\u001b[0;31mValueError\u001b[0m                                Traceback (most recent call last)",
        "\u001b[0;32m<ipython-input-37-503e4a8580e4>\u001b[0m in \u001b[0;36m<module>\u001b[0;34m()\u001b[0m\n\u001b[1;32m     28\u001b[0m \u001b[0mfeatures\u001b[0m \u001b[0;34m=\u001b[0m \u001b[0mnp\u001b[0m\u001b[0;34m.\u001b[0m\u001b[0mrandom\u001b[0m\u001b[0;34m.\u001b[0m\u001b[0mmultivariate_normal\u001b[0m\u001b[0;34m(\u001b[0m\u001b[0mnp\u001b[0m\u001b[0;34m.\u001b[0m\u001b[0mzeros\u001b[0m\u001b[0;34m(\u001b[0m\u001b[0mn_features\u001b[0m\u001b[0;34m)\u001b[0m\u001b[0;34m,\u001b[0m \u001b[0mnp\u001b[0m\u001b[0;34m.\u001b[0m\u001b[0mdiag\u001b[0m\u001b[0;34m(\u001b[0m\u001b[0mdiag\u001b[0m\u001b[0;34m)\u001b[0m\u001b[0;34m,\u001b[0m \u001b[0mn_samples\u001b[0m\u001b[0;34m)\u001b[0m\u001b[0;34m\u001b[0m\u001b[0m\n\u001b[1;32m     29\u001b[0m \u001b[0mlabels\u001b[0m \u001b[0;34m=\u001b[0m \u001b[0mnp\u001b[0m\u001b[0;34m.\u001b[0m\u001b[0marray\u001b[0m\u001b[0;34m(\u001b[0m\u001b[0;34m[\u001b[0m\u001b[0mnp\u001b[0m\u001b[0;34m.\u001b[0m\u001b[0mrandom\u001b[0m\u001b[0;34m.\u001b[0m\u001b[0mrand\u001b[0m\u001b[0;34m(\u001b[0m\u001b[0;34m)\u001b[0m \u001b[0;34m<\u001b[0m \u001b[0mp\u001b[0m \u001b[0;32mfor\u001b[0m \u001b[0mp\u001b[0m \u001b[0;32min\u001b[0m \u001b[0mlogistic\u001b[0m\u001b[0;34m(\u001b[0m\u001b[0mfeatures\u001b[0m\u001b[0;34m.\u001b[0m\u001b[0mdot\u001b[0m\u001b[0;34m(\u001b[0m\u001b[0mparams\u001b[0m\u001b[0;34m.\u001b[0m\u001b[0mT\u001b[0m\u001b[0;34m)\u001b[0m\u001b[0;34m)\u001b[0m\u001b[0;34m]\u001b[0m\u001b[0;34m)\u001b[0m\u001b[0;34m\u001b[0m\u001b[0m\n\u001b[0;32m---> 30\u001b[0;31m \u001b[0mcontours\u001b[0m\u001b[0;34m(\u001b[0m\u001b[0mleast_squares\u001b[0m\u001b[0;34m)\u001b[0m\u001b[0;34m\u001b[0m\u001b[0m\n\u001b[0m\u001b[1;32m     31\u001b[0m \u001b[0;34m\u001b[0m\u001b[0m\n\u001b[1;32m     32\u001b[0m \u001b[0mplt\u001b[0m\u001b[0;34m.\u001b[0m\u001b[0msubplot\u001b[0m\u001b[0;34m(\u001b[0m\u001b[0;36m1\u001b[0m\u001b[0;34m,\u001b[0m \u001b[0;36m2\u001b[0m\u001b[0;34m,\u001b[0m \u001b[0;36m2\u001b[0m\u001b[0;34m)\u001b[0m\u001b[0;34m\u001b[0m\u001b[0m\n",
        "\u001b[0;32m<ipython-input-37-503e4a8580e4>\u001b[0m in \u001b[0;36mcontours\u001b[0;34m(f, xlim, ylim)\u001b[0m\n\u001b[1;32m      7\u001b[0m \u001b[0;34m\u001b[0m\u001b[0m\n\u001b[1;32m      8\u001b[0m     \u001b[0mloss\u001b[0m \u001b[0;34m=\u001b[0m \u001b[0;32mlambda\u001b[0m \u001b[0mx\u001b[0m\u001b[0;34m:\u001b[0m \u001b[0mf\u001b[0m\u001b[0;34m(\u001b[0m\u001b[0mx\u001b[0m\u001b[0;34m,\u001b[0m \u001b[0mfeatures\u001b[0m\u001b[0;34m,\u001b[0m \u001b[0mlabels\u001b[0m\u001b[0;34m)\u001b[0m\u001b[0;34m\u001b[0m\u001b[0m\n\u001b[0;32m----> 9\u001b[0;31m     \u001b[0mX\u001b[0m\u001b[0;34m,\u001b[0m \u001b[0mY\u001b[0m\u001b[0;34m,\u001b[0m \u001b[0mZ\u001b[0m \u001b[0;34m=\u001b[0m \u001b[0mapply_to_grid\u001b[0m\u001b[0;34m(\u001b[0m\u001b[0mloss\u001b[0m\u001b[0;34m,\u001b[0m \u001b[0mxlim\u001b[0m\u001b[0;34m,\u001b[0m \u001b[0mylim\u001b[0m\u001b[0;34m)\u001b[0m\u001b[0;34m\u001b[0m\u001b[0m\n\u001b[0m\u001b[1;32m     10\u001b[0m \u001b[0;34m\u001b[0m\u001b[0m\n\u001b[1;32m     11\u001b[0m     \u001b[0mplt\u001b[0m\u001b[0;34m.\u001b[0m\u001b[0mxlabel\u001b[0m\u001b[0;34m(\u001b[0m\u001b[0;34mr\"$x_1$\"\u001b[0m\u001b[0;34m,\u001b[0m \u001b[0mfontsize\u001b[0m\u001b[0;34m=\u001b[0m\u001b[0;36m18\u001b[0m\u001b[0;34m)\u001b[0m\u001b[0;34m\u001b[0m\u001b[0m\n",
        "\u001b[0;32m<ipython-input-37-503e4a8580e4>\u001b[0m in \u001b[0;36mapply_to_grid\u001b[0;34m(f, xlim, ylim, s)\u001b[0m\n\u001b[1;32m      4\u001b[0m         \u001b[0mX\u001b[0m\u001b[0;34m,\u001b[0m \u001b[0mY\u001b[0m \u001b[0;34m=\u001b[0m \u001b[0mnp\u001b[0m\u001b[0;34m.\u001b[0m\u001b[0mmgrid\u001b[0m\u001b[0;34m[\u001b[0m\u001b[0mxlim\u001b[0m\u001b[0;34m[\u001b[0m\u001b[0;36m0\u001b[0m\u001b[0;34m]\u001b[0m\u001b[0;34m:\u001b[0m\u001b[0mxlim\u001b[0m\u001b[0;34m[\u001b[0m\u001b[0;36m1\u001b[0m\u001b[0;34m]\u001b[0m\u001b[0;34m:\u001b[0m\u001b[0ms\u001b[0m\u001b[0;34m,\u001b[0m \u001b[0mylim\u001b[0m\u001b[0;34m[\u001b[0m\u001b[0;36m0\u001b[0m\u001b[0;34m]\u001b[0m\u001b[0;34m:\u001b[0m\u001b[0mylim\u001b[0m\u001b[0;34m[\u001b[0m\u001b[0;36m1\u001b[0m\u001b[0;34m]\u001b[0m\u001b[0;34m:\u001b[0m\u001b[0ms\u001b[0m\u001b[0;34m]\u001b[0m\u001b[0;34m\u001b[0m\u001b[0m\n\u001b[1;32m      5\u001b[0m         \u001b[0mz\u001b[0m \u001b[0;34m=\u001b[0m \u001b[0mpositions\u001b[0m \u001b[0;34m=\u001b[0m \u001b[0mnp\u001b[0m\u001b[0;34m.\u001b[0m\u001b[0mvstack\u001b[0m\u001b[0;34m(\u001b[0m\u001b[0;34m[\u001b[0m\u001b[0mX\u001b[0m\u001b[0;34m.\u001b[0m\u001b[0mravel\u001b[0m\u001b[0;34m(\u001b[0m\u001b[0;34m)\u001b[0m\u001b[0;34m,\u001b[0m \u001b[0mY\u001b[0m\u001b[0;34m.\u001b[0m\u001b[0mravel\u001b[0m\u001b[0;34m(\u001b[0m\u001b[0;34m)\u001b[0m\u001b[0;34m]\u001b[0m\u001b[0;34m)\u001b[0m\u001b[0;34m.\u001b[0m\u001b[0mT\u001b[0m\u001b[0;34m\u001b[0m\u001b[0m\n\u001b[0;32m----> 6\u001b[0;31m         \u001b[0;32mreturn\u001b[0m \u001b[0mX\u001b[0m\u001b[0;34m,\u001b[0m \u001b[0mY\u001b[0m\u001b[0;34m,\u001b[0m \u001b[0mnp\u001b[0m\u001b[0;34m.\u001b[0m\u001b[0mreshape\u001b[0m\u001b[0;34m(\u001b[0m\u001b[0mf\u001b[0m\u001b[0;34m(\u001b[0m\u001b[0mz\u001b[0m\u001b[0;34m)\u001b[0m\u001b[0;34m,\u001b[0m \u001b[0;34m(\u001b[0m\u001b[0;36m100\u001b[0m\u001b[0;34m,\u001b[0m \u001b[0;36m100\u001b[0m\u001b[0;34m)\u001b[0m\u001b[0;34m)\u001b[0m\u001b[0;34m\u001b[0m\u001b[0m\n\u001b[0m\u001b[1;32m      7\u001b[0m \u001b[0;34m\u001b[0m\u001b[0m\n\u001b[1;32m      8\u001b[0m     \u001b[0mloss\u001b[0m \u001b[0;34m=\u001b[0m \u001b[0;32mlambda\u001b[0m \u001b[0mx\u001b[0m\u001b[0;34m:\u001b[0m \u001b[0mf\u001b[0m\u001b[0;34m(\u001b[0m\u001b[0mx\u001b[0m\u001b[0;34m,\u001b[0m \u001b[0mfeatures\u001b[0m\u001b[0;34m,\u001b[0m \u001b[0mlabels\u001b[0m\u001b[0;34m)\u001b[0m\u001b[0;34m\u001b[0m\u001b[0m\n",
        "\u001b[0;32m<ipython-input-37-503e4a8580e4>\u001b[0m in \u001b[0;36m<lambda>\u001b[0;34m(x)\u001b[0m\n\u001b[1;32m      6\u001b[0m         \u001b[0;32mreturn\u001b[0m \u001b[0mX\u001b[0m\u001b[0;34m,\u001b[0m \u001b[0mY\u001b[0m\u001b[0;34m,\u001b[0m \u001b[0mnp\u001b[0m\u001b[0;34m.\u001b[0m\u001b[0mreshape\u001b[0m\u001b[0;34m(\u001b[0m\u001b[0mf\u001b[0m\u001b[0;34m(\u001b[0m\u001b[0mz\u001b[0m\u001b[0;34m)\u001b[0m\u001b[0;34m,\u001b[0m \u001b[0;34m(\u001b[0m\u001b[0;36m100\u001b[0m\u001b[0;34m,\u001b[0m \u001b[0;36m100\u001b[0m\u001b[0;34m)\u001b[0m\u001b[0;34m)\u001b[0m\u001b[0;34m\u001b[0m\u001b[0m\n\u001b[1;32m      7\u001b[0m \u001b[0;34m\u001b[0m\u001b[0m\n\u001b[0;32m----> 8\u001b[0;31m     \u001b[0mloss\u001b[0m \u001b[0;34m=\u001b[0m \u001b[0;32mlambda\u001b[0m \u001b[0mx\u001b[0m\u001b[0;34m:\u001b[0m \u001b[0mf\u001b[0m\u001b[0;34m(\u001b[0m\u001b[0mx\u001b[0m\u001b[0;34m,\u001b[0m \u001b[0mfeatures\u001b[0m\u001b[0;34m,\u001b[0m \u001b[0mlabels\u001b[0m\u001b[0;34m)\u001b[0m\u001b[0;34m\u001b[0m\u001b[0m\n\u001b[0m\u001b[1;32m      9\u001b[0m     \u001b[0mX\u001b[0m\u001b[0;34m,\u001b[0m \u001b[0mY\u001b[0m\u001b[0;34m,\u001b[0m \u001b[0mZ\u001b[0m \u001b[0;34m=\u001b[0m \u001b[0mapply_to_grid\u001b[0m\u001b[0;34m(\u001b[0m\u001b[0mloss\u001b[0m\u001b[0;34m,\u001b[0m \u001b[0mxlim\u001b[0m\u001b[0;34m,\u001b[0m \u001b[0mylim\u001b[0m\u001b[0;34m)\u001b[0m\u001b[0;34m\u001b[0m\u001b[0m\n\u001b[1;32m     10\u001b[0m \u001b[0;34m\u001b[0m\u001b[0m\n",
        "\u001b[0;32m<ipython-input-34-4473aa8093dc>\u001b[0m in \u001b[0;36mleast_squares\u001b[0;34m(x, features, labels)\u001b[0m\n\u001b[1;32m      2\u001b[0m     \u001b[0;34m\"\"\"Evaluates the least square function.\"\"\"\u001b[0m\u001b[0;34m\u001b[0m\u001b[0m\n\u001b[1;32m      3\u001b[0m     \u001b[0mn_samples\u001b[0m \u001b[0;34m=\u001b[0m \u001b[0mfeatures\u001b[0m\u001b[0;34m.\u001b[0m\u001b[0mshape\u001b[0m\u001b[0;34m[\u001b[0m\u001b[0;36m0\u001b[0m\u001b[0;34m]\u001b[0m\u001b[0;34m\u001b[0m\u001b[0m\n\u001b[0;32m----> 4\u001b[0;31m     \u001b[0mx\u001b[0m \u001b[0;34m=\u001b[0m \u001b[0mx\u001b[0m\u001b[0;34m.\u001b[0m\u001b[0mreshape\u001b[0m\u001b[0;34m(\u001b[0m\u001b[0;36m1\u001b[0m\u001b[0;34m,\u001b[0m \u001b[0mn_features\u001b[0m\u001b[0;34m)\u001b[0m\u001b[0;34m\u001b[0m\u001b[0m\n\u001b[0m\u001b[1;32m      5\u001b[0m     \u001b[0mloss_array\u001b[0m \u001b[0;34m=\u001b[0m \u001b[0;34m(\u001b[0m\u001b[0mfeatures\u001b[0m\u001b[0;34m.\u001b[0m\u001b[0mdot\u001b[0m\u001b[0;34m(\u001b[0m\u001b[0mx\u001b[0m\u001b[0;34m.\u001b[0m\u001b[0mT\u001b[0m\u001b[0;34m)\u001b[0m \u001b[0;34m-\u001b[0m \u001b[0mlabels\u001b[0m\u001b[0;34m)\u001b[0m \u001b[0;34m**\u001b[0m \u001b[0;36m2\u001b[0m\u001b[0;34m\u001b[0m\u001b[0m\n\u001b[1;32m      6\u001b[0m     \u001b[0;32mreturn\u001b[0m \u001b[0mnp\u001b[0m\u001b[0;34m.\u001b[0m\u001b[0msum\u001b[0m\u001b[0;34m(\u001b[0m\u001b[0mloss_array\u001b[0m\u001b[0;34m,\u001b[0m \u001b[0maxis\u001b[0m\u001b[0;34m=\u001b[0m\u001b[0;36m0\u001b[0m\u001b[0;34m)\u001b[0m \u001b[0;34m/\u001b[0m \u001b[0;34m(\u001b[0m\u001b[0;36m2.\u001b[0m \u001b[0;34m*\u001b[0m \u001b[0mn_samples\u001b[0m\u001b[0;34m)\u001b[0m\u001b[0;34m\u001b[0m\u001b[0m\n",
        "\u001b[0;31mValueError\u001b[0m: total size of new array must be unchanged"
       ]
      },
      {
       "metadata": {},
       "output_type": "display_data",
       "png": "[encoded data removed]",
       "text": [
        "<matplotlib.figure.Figure at 0x10a9a0310>"
       ]
      }
     ],
     "prompt_number": 37
    },
    {
     "cell_type": "code",
     "collapsed": false,
     "input": [],
     "language": "python",
     "metadata": {},
     "outputs": []
    }
   ],
   "metadata": {}
  }
 ]
}
