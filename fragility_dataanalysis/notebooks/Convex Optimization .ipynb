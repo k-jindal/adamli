{
 "cells": [
  {
   "cell_type": "code",
   "execution_count": 2,
   "metadata": {
    "collapsed": false
   },
   "outputs": [],
   "source": [
    "import numpy as np\n",
    "from cvxopt import solvers, matrix, spmatrix, mul\n",
    "from pickle import load\n",
    "\n",
    "%matplotlib inline\n",
    "import matplotlib.pylab as plt"
   ]
  },
  {
   "cell_type": "code",
   "execution_count": 24,
   "metadata": {
    "collapsed": false
   },
   "outputs": [
    {
     "name": "stdout",
     "output_type": "stream",
     "text": [
      "{'y': <51x1 matrix, tc='d'>, 'u': <51x1 matrix, tc='d'>}\n"
     ]
    },
    {
     "data": {
      "text/plain": [
       "<matplotlib.text.Text at 0x113377110>"
      ]
     },
     "execution_count": 24,
     "metadata": {},
     "output_type": "execute_result"
    },
    {
     "data": {
      "image/png": "[encoded data removed]",
      "text/plain": [
       "<matplotlib.figure.Figure at 0x1131b0cd0>"
      ]
     },
     "metadata": {},
     "output_type": "display_data"
    }
   ],
   "source": [
    "solvers.options['show_progress'] = 0\n",
    "data = load(open('cvxfit.bin', 'rb'))\n",
    "u,y = data['u'], data['y']\n",
    "print data\n",
    "plt.plot(u, y, 'ko')\n",
    "plt.title('Original Data Fit')"
   ]
  },
  {
   "cell_type": "markdown",
   "metadata": {},
   "source": [
    "## Minimization Problem\n",
    "\n",
    "$argmin \\ (1/2)||\\hat{y} - y||_2^2$\n",
    "subject to $\\hat{y}_j >= \\hat{y}_i + g_i'(u_j - u_i)$\n",
    "\n",
    "Variables are $\\hat{y}(m), g(m)$"
   ]
  },
  {
   "cell_type": "code",
   "execution_count": 28,
   "metadata": {
    "collapsed": false
   },
   "outputs": [
    {
     "name": "stdout",
     "output_type": "stream",
     "text": [
      "(2601, 102)\n",
      "(51, 51)\n",
      "(102, 1)\n",
      "(102, 102)\n"
     ]
    }
   ],
   "source": [
    "m = len(u)\n",
    "nvars = 2*m\n",
    "\n",
    "P = spmatrix(1.0, range(m), range(m), (nvars, nvars))\n",
    "q = matrix(0.0, (nvars, 1))\n",
    "q[:m] = -y\n",
    "\n",
    "G = spmatrix([],[],[], (m**2, nvars)) # init empty filler matrix\n",
    "I = spmatrix(1.0, range(m), range(m)) # identity matrix\n",
    "\n",
    "print G.size\n",
    "print I.size\n",
    "print q.size\n",
    "print P.size"
   ]
  },
  {
   "cell_type": "code",
   "execution_count": 29,
   "metadata": {
    "collapsed": false
   },
   "outputs": [
    {
     "name": "stdout",
     "output_type": "stream",
     "text": [
      "(2601, 1)\n"
     ]
    },
    {
     "data": {
      "image/png": "[encoded data removed]",
      "text/plain": [
       "<matplotlib.figure.Figure at 0x11357e5d0>"
      ]
     },
     "metadata": {},
     "output_type": "display_data"
    }
   ],
   "source": [
    "# run through iterations \n",
    "for i in range(m):\n",
    "    # coefficients of yhat[i]\n",
    "    G[list(range(i*m, (i+1)*m)), i] = 1.0\n",
    "\n",
    "    # coefficients of g[i]\n",
    "    G[list(range(i*m, (i+1)*m)), m+i] = u - u[i]\n",
    "\n",
    "    # coefficients of yhat[j]\n",
    "    G[list(range(i*m, (i+1)*m)), list(range(m))] -= I\n",
    "\n",
    "h = matrix(0.0, (m**2,1))\n",
    "\n",
    "print h.size\n",
    "\n",
    "sol = solvers.qp(P, q, G, h)\n",
    "yhat = sol['x'][:m]\n",
    "g = sol['x'][m:]\n",
    "\n",
    "nopts = 1000\n",
    "ts = [ 2.2/nopts * t for t in range(1000) ]\n",
    "f = [ max(yhat + mul(g, t-u)) for t in ts ]\n",
    "\n",
    "plt.figure(1, facecolor='w')\n",
    "plt.plot(u, y, 'wo', markeredgecolor='b')\n",
    "plt.plot(ts, f, '-g')\n",
    "plt.axis([-0.1, 2.3, -1.1, 7.2])\n",
    "plt.axis('off')\n",
    "plt.title('Least-squares fit of convex function (fig. 6.24)')\n",
    "plt.show()"
   ]
  },
  {
   "cell_type": "code",
   "execution_count": 31,
   "metadata": {
    "collapsed": false
   },
   "outputs": [],
   "source": [
    "from l1regls import l1regls\n",
    "from cvxopt import normal\n",
    "\n",
    "m, n = 50, 200\n",
    "A, b = normal(m,n), normal(m,1)\n",
    "x = l1regls(A,b)"
   ]
  }
 ],
 "metadata": {
  "kernelspec": {
   "display_name": "Python 2",
   "language": "python",
   "name": "python2"
  },
  "language_info": {
   "codemirror_mode": {
    "name": "ipython",
    "version": 2
   },
   "file_extension": ".py",
   "mimetype": "text/x-python",
   "name": "python",
   "nbconvert_exporter": "python",
   "pygments_lexer": "ipython2",
   "version": "2.7.11"
  }
 },
 "nbformat": 4,
 "nbformat_minor": 0
}
