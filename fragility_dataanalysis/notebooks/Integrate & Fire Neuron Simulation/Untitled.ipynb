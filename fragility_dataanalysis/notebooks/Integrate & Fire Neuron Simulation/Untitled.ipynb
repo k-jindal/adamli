{
 "cells": [
  {
   "cell_type": "code",
   "execution_count": 13,
   "metadata": {
    "collapsed": false
   },
   "outputs": [
    {
     "ename": "SyntaxError",
     "evalue": "invalid syntax (<string>, line 1)",
     "output_type": "error",
     "traceback": [
      "\u001b[0;36m  File \u001b[0;32m\"<string>\"\u001b[0;36m, line \u001b[0;32m1\u001b[0m\n\u001b[0;31m    import pyNN./Users/adam2392/Library/Jupyter/runtime/kernel-d3df1895-e70b-4d97-8540-0133f113693f.json as pyNN\u001b[0m\n\u001b[0m                ^\u001b[0m\n\u001b[0;31mSyntaxError\u001b[0m\u001b[0;31m:\u001b[0m invalid syntax\n"
     ]
    }
   ],
   "source": [
    "from __future__ import print_function\n",
    "import sys\n",
    "from math import sqrt, pi\n",
    "from pyNN.random import NumpyRNG, RandomDistribution\n",
    "SIMULATOR = sys.argv[-1]\n",
    "\n",
    "# exec(\"import pyNN.%s as pyNN\" % SIMULATOR)"
   ]
  },
  {
   "cell_type": "code",
   "execution_count": 15,
   "metadata": {
    "collapsed": false
   },
   "outputs": [
    {
     "ename": "ImportError",
     "evalue": "No module named neuron",
     "output_type": "error",
     "traceback": [
      "\u001b[0;31m---------------------------------------------------------------------------\u001b[0m",
      "\u001b[0;31mImportError\u001b[0m                               Traceback (most recent call last)",
      "\u001b[0;32m<ipython-input-15-861d48cbe3e0>\u001b[0m in \u001b[0;36m<module>\u001b[0;34m()\u001b[0m\n\u001b[0;32m----> 1\u001b[0;31m \u001b[0;32mimport\u001b[0m \u001b[0mneuron\u001b[0m\u001b[0;34m\u001b[0m\u001b[0m\n\u001b[0m",
      "\u001b[0;31mImportError\u001b[0m: No module named neuron"
     ]
    }
   ],
   "source": [
    "import neuron"
   ]
  },
  {
   "cell_type": "code",
   "execution_count": 11,
   "metadata": {
    "collapsed": false
   },
   "outputs": [
    {
     "ename": "SyntaxError",
     "evalue": "invalid syntax (<string>, line 1)",
     "output_type": "error",
     "traceback": [
      "\u001b[0;36m  File \u001b[0;32m\"<string>\"\u001b[0;36m, line \u001b[0;32m1\u001b[0m\n\u001b[0;31m    from pyNN.-f import *\u001b[0m\n\u001b[0m              ^\u001b[0m\n\u001b[0;31mSyntaxError\u001b[0m\u001b[0;31m:\u001b[0m invalid syntax\n"
     ]
    }
   ],
   "source": [
    "\"\"\"\n",
    "A single IF neuron with exponential, conductance-based synapses, fed by two\n",
    "spike sources.\n",
    "\n",
    "Run as:\n",
    "\n",
    "$ python IF_cond_exp.py <simulator>\n",
    "\n",
    "where <simulator> is 'neuron', 'nest', etc\n",
    "\n",
    "Andrew Davison, UNIC, CNRS\n",
    "May 2006\n",
    "\n",
    "$Id: IF_cond_exp.py 917 2011-01-31 15:23:34Z apdavison $\n",
    "\"\"\"\n",
    "\n",
    "from pyNN.utility import get_script_args\n",
    "from pyNN.errors import RecordingError\n",
    "\n",
    "simulator_name = get_script_args(1)[0]  \n",
    "exec(\"from pyNN.%s import *\" % simulator_name)\n",
    "\n",
    "\n",
    "setup(timestep=0.1,min_delay=0.1,max_delay=4.0)\n",
    "\n",
    "ifcell = create(IF_cond_exp, {  'i_offset' : 0.1,    'tau_refrac' : 3.0,\n",
    "                                'v_thresh' : -51.0,  'tau_syn_E'  : 2.0,\n",
    "                                'tau_syn_I': 5.0,    'v_reset'    : -70.0,\n",
    "                                'e_rev_E'  : 0.,     'e_rev_I'    : -80.})\n",
    "\n",
    "spike_sourceE = create(SpikeSourceArray, {'spike_times': [float(i) for i in range(5,105,10)]})\n",
    "spike_sourceI = create(SpikeSourceArray, {'spike_times': [float(i) for i in range(155,255,10)]})\n",
    "\n",
    "connE = connect(spike_sourceE, ifcell, weight=0.006, synapse_type='excitatory',delay=2.0)\n",
    "connI = connect(spike_sourceI, ifcell, weight=0.02, synapse_type ='inhibitory',delay=4.0)\n",
    "    \n",
    "record_v(ifcell, \"Results/IF_cond_exp_%s.v\" % simulator_name)\n",
    "try:\n",
    "    record_gsyn(ifcell, \"Results/IF_cond_exp_%s.gsyn\" % simulator_name)\n",
    "except (NotImplementedError, RecordingError):\n",
    "    pass\n",
    "run(200.0)\n",
    "\n",
    "end()"
   ]
  },
  {
   "cell_type": "code",
   "execution_count": null,
   "metadata": {
    "collapsed": true
   },
   "outputs": [],
   "source": []
  }
 ],
 "metadata": {
  "kernelspec": {
   "display_name": "Python 2",
   "language": "python",
   "name": "python2"
  },
  "language_info": {
   "codemirror_mode": {
    "name": "ipython",
    "version": 2
   },
   "file_extension": ".py",
   "mimetype": "text/x-python",
   "name": "python",
   "nbconvert_exporter": "python",
   "pygments_lexer": "ipython2",
   "version": "2.7.11"
  }
 },
 "nbformat": 4,
 "nbformat_minor": 0
}
