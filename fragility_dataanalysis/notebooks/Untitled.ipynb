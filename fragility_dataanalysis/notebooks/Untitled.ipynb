{
 "cells": [
  {
   "cell_type": "code",
   "execution_count": 1,
   "metadata": {
    "collapsed": false
   },
   "outputs": [
    {
     "name": "stderr",
     "output_type": "stream",
     "text": [
      "/usr/local/lib/python2.7/site-packages/matplotlib/font_manager.py:273: UserWarning: Matplotlib is building the font cache using fc-list. This may take a moment.\n",
      "  warnings.warn('Matplotlib is building the font cache using fc-list. This may take a moment.')\n"
     ]
    }
   ],
   "source": [
    "import numpy as np\n",
    "from numpy.linalg import norm\n",
    "\n",
    "%matplotlib inline\n",
    "import matplotlib.pylab as plt"
   ]
  },
  {
   "cell_type": "code",
   "execution_count": 11,
   "metadata": {
    "collapsed": true
   },
   "outputs": [],
   "source": [
    "def least_squares(x, features, labels):\n",
    "    \"\"\"Evaluates the least square function.\"\"\"\n",
    "    n_samples, n_features = features.shape\n",
    "#     print x.shape\n",
    "#     x = x.reshape(1, n_features)\n",
    "#     print x.shape\n",
    "    loss_array = 1/2*(features.dot(x.T) - labels) ** 2\n",
    "#     print 'loss', loss_array.shape\n",
    "    return np.sum(loss_array, axis=0)\n",
    "\n",
    "def least_squares_grad(x, features, labels):\n",
    "    \"\"\"Evaluates the gradient of the least square function.\"\"\"\n",
    "    n_samples = features.shape[0]\n",
    "#     x = x.reshape(1, n_features)  # Added for scipy.optimize compatibility\n",
    "    grad_array = (features.dot(x.T) - labels) * features\n",
    "#     print 'grad', grad_array.shape\n",
    "    return np.sum(grad_array, axis=0) / n_samples\n",
    "\n",
    "def prox_l1(x, l=1.):\n",
    "    \"\"\" Proximal operator of the l1 norm.\"\"\"\n",
    "    x_abs = np.abs(x)\n",
    "    return np.sign(x) * (x_abs - l) * (x_abs > l)\n",
    "\n",
    "def inspector(loss_fun, x_real, verbose=False):\n",
    "    \"\"\"A closure called to update metrics after each iteration.\"\"\"\n",
    "    objectives = []\n",
    "    errors = []\n",
    "    it = [0]  # This is a hack to be able to modify 'it' inside the closure.\n",
    "    def inspector_cl(xk):\n",
    "        obj = loss_fun(xk)\n",
    "        err = norm(xk - x_real) / norm(x_real)\n",
    "        objectives.append(obj)\n",
    "        errors.append(err)\n",
    "        if verbose == True:\n",
    "            if it[0] == 0:\n",
    "                print ' | '.join([name.center(8) for name in [\"it\", \"obj\", \"err\"]])\n",
    "            if it[0] % (n_iter / 5) == 0:\n",
    "                print ' | '.join([(\"%d\" % it[0]).rjust(8), (\"%.2e\" % obj).rjust(8), (\"%.2e\" % err).rjust(8)])\n",
    "            it[0] += 1\n",
    "    inspector_cl.obj = objectives\n",
    "    inspector_cl.err = errors\n",
    "    return inspector_cl\n",
    "\n",
    "def gd(x_init, grad, n_iter=100, step=1., callback=None):\n",
    "    \"\"\"Basic gradient descent algorithm.\"\"\"\n",
    "    x = x_init.copy()\n",
    "    \n",
    "    for _ in range(n_iter):\n",
    "        x -= step * grad(x)\n",
    "        \n",
    "        # Update metrics after each iteration.\n",
    "        if callback is not None:\n",
    "            callback(x)\n",
    "    return x"
   ]
  },
  {
   "cell_type": "code",
   "execution_count": 12,
   "metadata": {
    "collapsed": false
   },
   "outputs": [
    {
     "name": "stdout",
     "output_type": "stream",
     "text": [
      "(2000, 50)\n",
      "cond = 231.66\n",
      "Type: linear\n",
      "n_iter: 50\n",
      "step size: 1.03\n",
      "   it    |   obj    |   err   \n",
      "       0 | 0.00e+00 | 9.11e-01\n",
      "      10 | 0.00e+00 | 5.26e-01\n",
      "      20 | 0.00e+00 | 5.05e-01\n",
      "      30 | 0.00e+00 | 4.87e-01\n",
      "      40 | 0.00e+00 | 4.71e-01\n"
     ]
    },
    {
     "data": {
      "image/png": "[encoded data removed]",
      "text/plain": [
       "<matplotlib.figure.Figure at 0x10c0d2210>"
      ]
     },
     "metadata": {},
     "output_type": "display_data"
    }
   ],
   "source": [
    "# Generate a fake dataset\n",
    "\n",
    "n_samples = 2000\n",
    "n_features = 50\n",
    "\n",
    "idx = np.arange(n_features).reshape(1, n_features)\n",
    "params = 2 * (-1) ** (idx - 1) * .9**idx\n",
    "params[0, 20:50] = 0\n",
    "diag = np.random.rand(n_features)\n",
    "features = np.random.multivariate_normal(np.zeros(n_features), np.diag(diag), n_samples)\n",
    "\n",
    "print features.shape\n",
    "\n",
    "# Show the condition number of the gram matrix\n",
    "print \"cond = %.2f\" % (diag.max() / diag.min())\n",
    "\n",
    "# Change this to 'False' to estimate the logitic regression model.\n",
    "linear = True\n",
    "if linear == True:\n",
    "    residuals = np.random.randn(n_samples, 1)\n",
    "    labels = features.dot(params.T) + residuals\n",
    "else:\n",
    "    labels = np.array([[float(np.random.rand() < p)] for p in logistic(features.dot(params.T))])\n",
    "\n",
    "# Initialize stuff\n",
    "x_init = 1 - 2 * np.random.rand(1, n_features)\n",
    "n_iter = 50\n",
    "l_l1 = 0\n",
    "l_l2 = 0.1\n",
    "\n",
    "# f and gradient\n",
    "if linear == True:\n",
    "    f = lambda x: least_squares(x, features, labels)\n",
    "    grad_f = lambda x: least_squares_grad(x, features, labels)\n",
    "    step = norm(features.T.dot(features) / n_samples, 2)\n",
    "else:\n",
    "    f = lambda x: logistic_loss(x, features, labels)[0]\n",
    "    grad_f = lambda x: logistic_loss_grad(x, features, labels)\n",
    "    step = 1. # np.sum(features**2, axis=1).max() / (4 * n_samples)\n",
    "\n",
    "# g, F and prox.\n",
    "g = lambda x: l_l1 * np.abs(x).sum()\n",
    "F = lambda x: f(x) + g(x)\n",
    "prox_g = lambda x: prox_l1(x, step, l_l1)\n",
    "\n",
    "print \"Type: %s\" % ('linear' if linear else 'logistic')\n",
    "print \"n_iter: %d\" % n_iter\n",
    "print \"step size: %.2f\" % step\n",
    "\n",
    "# Gradient descent\n",
    "grad_gd = lambda x: grad_f(x) + l_l1 * np.abs(x)\n",
    "gd_inspector = inspector(loss_fun=F, x_real=params, verbose=True)\n",
    "x_gd = gd(x_init, grad=grad_gd, n_iter=n_iter, step=step, callback=gd_inspector)\n",
    "\n",
    "plt.figure(figsize=(8, 4))\n",
    "plt.stem(params[0])\n",
    "plt.title(\"True parameters\", fontsize=16)\n",
    "plt.show()"
   ]
  },
  {
   "cell_type": "code",
   "execution_count": null,
   "metadata": {
    "collapsed": true
   },
   "outputs": [],
   "source": []
  }
 ],
 "metadata": {
  "kernelspec": {
   "display_name": "Python 2",
   "language": "python",
   "name": "python2"
  },
  "language_info": {
   "codemirror_mode": {
    "name": "ipython",
    "version": 2
   },
   "file_extension": ".py",
   "mimetype": "text/x-python",
   "name": "python",
   "nbconvert_exporter": "python",
   "pygments_lexer": "ipython2",
   "version": "2.7.11"
  }
 },
 "nbformat": 4,
 "nbformat_minor": 0
}
