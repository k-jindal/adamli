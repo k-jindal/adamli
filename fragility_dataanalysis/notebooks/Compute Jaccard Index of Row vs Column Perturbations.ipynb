{
 "cells": [
  {
   "cell_type": "markdown",
   "metadata": {},
   "source": [
    "* i=channel index\n",
    "* t=time index\n",
    "* $\\Delta=min\\ norm\\ perturbation$\n",
    "\n",
    "At each time point, t, for every channel, compute the following:\n",
    "$\\frac{max(\\Delta(t)) - \\Delta(t)_i}{max(\\Delta(t))}$"
   ]
  },
  {
   "cell_type": "code",
   "execution_count": 7,
   "metadata": {
    "collapsed": false
   },
   "outputs": [
    {
     "name": "stderr",
     "output_type": "stream",
     "text": [
      "/usr/local/lib/python2.7/site-packages/matplotlib/font_manager.py:273: UserWarning: Matplotlib is building the font cache using fc-list. This may take a moment.\n",
      "  warnings.warn('Matplotlib is building the font cache using fc-list. This may take a moment.')\n"
     ]
    }
   ],
   "source": [
    "import pandas as pd\n",
    "import numpy as np\n",
    "import json\n",
    "import os\n",
    "from IPython.display import display\n",
    "\n",
    "import scipy, scipy.io\n",
    "\n",
    "import matplotlib\n",
    "from matplotlib import *\n",
    "from matplotlib import pyplot as plt\n",
    "import itertools\n",
    "\n",
    "## sklearn imports\n",
    "import sklearn.linear_model\n",
    "import sklearn.cross_validation\n",
    "import sklearn.tree\n",
    "import sklearn.ensemble\n",
    "import sklearn.preprocessing\n",
    "import sklearn.feature_selection\n",
    "import sklearn.pipeline\n",
    "import sklearn.grid_search"
   ]
  },
  {
   "cell_type": "code",
   "execution_count": 2,
   "metadata": {
    "collapsed": true
   },
   "outputs": [],
   "source": [
    "# paramaters of data\n",
    "freq = 1000\n",
    "winSize = 500\n",
    "stepSize = 500\n",
    "\n",
    "# directories\n",
    "dataDir = '../data/'\n",
    "adjDir = '../adj_mats_win500_step500_freq1000/'\n",
    "patients = ['pt1sz2', 'pt1sz3']\n",
    "\n",
    "patient = patients[0]\n",
    "patientDir = adjDir + patient + '/'\n",
    "matFiles = []\n",
    "for file in os.listdir(patientDir):\n",
    "    if file.endswith('.mat'):\n",
    "        matFiles.append(file)"
   ]
  },
  {
   "cell_type": "code",
   "execution_count": 15,
   "metadata": {
    "collapsed": false
   },
   "outputs": [
    {
     "name": "stdout",
     "output_type": "stream",
     "text": [
      "0.0348837209302\n"
     ]
    }
   ],
   "source": [
    "# column perturbation\n",
    "colDir = adjDir + 'C_finaldata_radius1.5/'\n",
    "patColDir = colDir + patient + 'final_data.mat'\n",
    "colData = scipy.io.loadmat(patColDir, squeeze_me=True, struct_as_record=False)\n",
    "\n",
    "# row perturbations\n",
    "rowDir = adjDir + 'R_finaldata_radius1.5/'\n",
    "patRowDir = rowDir + patient + 'final_data.mat'\n",
    "rowData = scipy.io.loadmat(patRowDir, squeeze_me=True, struct_as_record=False)\n",
    "\n",
    "# compare fragility rankings\n",
    "rowFragility = np.sum(rowData['fragility_rankings'], axis=1)\n",
    "colFragility = np.sum(1.-colData['fragility_rankings'], axis=1)\n",
    "rowIndex = sorted(range(len(rowFragility)), key=lambda k: rowFragility[k])\n",
    "colIndex = sorted(range(len(colFragility)), key=lambda k: colFragility[k])\n",
    "\n",
    "print sklearn.metrics.jaccard_similarity_score(rowIndex,colIndex)\n",
    "\n",
    "# compute contrast statistic\n",
    "threshold = 0.8\n"
   ]
  },
  {
   "cell_type": "code",
   "execution_count": 16,
   "metadata": {
    "collapsed": false
   },
   "outputs": [
    {
     "name": "stdout",
     "output_type": "stream",
     "text": [
      "[5, 4, 16, 29, 12, 20, 61, 28, 57, 46, 45, 58, 24, 71, 19, 65, 21, 66, 59, 79, 6, 53, 39, 70, 69, 15, 68, 14, 30, 25, 34, 47, 38, 37, 9, 48, 49, 44, 63, 85, 23, 67, 60, 35, 62, 80, 36, 18, 64, 17, 2, 73, 40, 1, 41, 51, 50, 78, 27, 26, 52, 8, 72, 42, 43, 84, 0, 7, 56, 81, 11, 83, 10, 31, 82, 22, 3, 76, 75, 13, 33, 55, 77, 54, 74, 32]\n"
     ]
    }
   ],
   "source": [
    "print colIndex"
   ]
  },
  {
   "cell_type": "code",
   "execution_count": 17,
   "metadata": {
    "collapsed": false,
    "scrolled": true
   },
   "outputs": [
    {
     "name": "stdout",
     "output_type": "stream",
     "text": [
      "[4, 5, 47, 12, 16, 6, 20, 24, 28, 57, 45, 39, 21, 53, 49, 25, 15, 29, 19, 14, 38, 9, 40, 2, 58, 79, 46, 61, 1, 37, 48, 66, 18, 26, 0, 30, 41, 34, 23, 51, 11, 44, 65, 10, 17, 52, 71, 8, 59, 68, 70, 80, 36, 7, 73, 62, 69, 43, 67, 50, 42, 85, 35, 78, 72, 27, 64, 63, 81, 82, 60, 84, 83, 3, 22, 54, 76, 56, 13, 75, 77, 31, 55, 33, 74, 32]\n"
     ]
    }
   ],
   "source": [
    "print rowIndex"
   ]
  },
  {
   "cell_type": "code",
   "execution_count": 15,
   "metadata": {
    "collapsed": false,
    "scrolled": false
   },
   "outputs": [
    {
     "data": {
      "text/html": [
       "<div>\n",
       "<table border=\"1\" class=\"dataframe\">\n",
       "  <thead>\n",
       "    <tr style=\"text-align: right;\">\n",
       "      <th></th>\n",
       "      <th>patient</th>\n",
       "      <th>slope</th>\n",
       "      <th>R^2</th>\n",
       "    </tr>\n",
       "  </thead>\n",
       "  <tbody>\n",
       "    <tr>\n",
       "      <th>0</th>\n",
       "      <td>pt1sz2</td>\n",
       "      <td>-0.633020</td>\n",
       "      <td>0.206610</td>\n",
       "    </tr>\n",
       "    <tr>\n",
       "      <th>1</th>\n",
       "      <td>pt1sz3</td>\n",
       "      <td>-0.742380</td>\n",
       "      <td>0.349010</td>\n",
       "    </tr>\n",
       "    <tr>\n",
       "      <th>2</th>\n",
       "      <td>pt1sz4</td>\n",
       "      <td>-0.564520</td>\n",
       "      <td>0.144200</td>\n",
       "    </tr>\n",
       "    <tr>\n",
       "      <th>3</th>\n",
       "      <td>pt2sz1</td>\n",
       "      <td>-0.654040</td>\n",
       "      <td>0.212870</td>\n",
       "    </tr>\n",
       "    <tr>\n",
       "      <th>4</th>\n",
       "      <td>pt2sz3</td>\n",
       "      <td>-0.622520</td>\n",
       "      <td>0.221930</td>\n",
       "    </tr>\n",
       "    <tr>\n",
       "      <th>5</th>\n",
       "      <td>pt2sz4</td>\n",
       "      <td>-0.708940</td>\n",
       "      <td>0.288040</td>\n",
       "    </tr>\n",
       "    <tr>\n",
       "      <th>6</th>\n",
       "      <td>pt3sz2</td>\n",
       "      <td>-0.556470</td>\n",
       "      <td>0.471120</td>\n",
       "    </tr>\n",
       "    <tr>\n",
       "      <th>7</th>\n",
       "      <td>pt3sz4</td>\n",
       "      <td>-0.853120</td>\n",
       "      <td>0.444210</td>\n",
       "    </tr>\n",
       "    <tr>\n",
       "      <th>8</th>\n",
       "      <td>pt8sz1</td>\n",
       "      <td>-0.078402</td>\n",
       "      <td>0.003655</td>\n",
       "    </tr>\n",
       "    <tr>\n",
       "      <th>9</th>\n",
       "      <td>pt8sz2</td>\n",
       "      <td>0.179860</td>\n",
       "      <td>0.009657</td>\n",
       "    </tr>\n",
       "    <tr>\n",
       "      <th>10</th>\n",
       "      <td>pt8sz3</td>\n",
       "      <td>0.608970</td>\n",
       "      <td>0.147010</td>\n",
       "    </tr>\n",
       "    <tr>\n",
       "      <th>11</th>\n",
       "      <td>pt10sz1</td>\n",
       "      <td>0.184110</td>\n",
       "      <td>0.009935</td>\n",
       "    </tr>\n",
       "    <tr>\n",
       "      <th>12</th>\n",
       "      <td>pt10sz2</td>\n",
       "      <td>0.105660</td>\n",
       "      <td>0.003785</td>\n",
       "    </tr>\n",
       "    <tr>\n",
       "      <th>13</th>\n",
       "      <td>pt10sz3</td>\n",
       "      <td>-0.478920</td>\n",
       "      <td>0.104020</td>\n",
       "    </tr>\n",
       "    <tr>\n",
       "      <th>14</th>\n",
       "      <td>pt1aslp1</td>\n",
       "      <td>-0.536600</td>\n",
       "      <td>0.404540</td>\n",
       "    </tr>\n",
       "    <tr>\n",
       "      <th>15</th>\n",
       "      <td>pt1aslp2</td>\n",
       "      <td>-0.722380</td>\n",
       "      <td>0.257750</td>\n",
       "    </tr>\n",
       "    <tr>\n",
       "      <th>16</th>\n",
       "      <td>pt1aw1</td>\n",
       "      <td>-0.746260</td>\n",
       "      <td>0.278840</td>\n",
       "    </tr>\n",
       "    <tr>\n",
       "      <th>17</th>\n",
       "      <td>pt1aw2</td>\n",
       "      <td>-0.572760</td>\n",
       "      <td>0.154770</td>\n",
       "    </tr>\n",
       "    <tr>\n",
       "      <th>18</th>\n",
       "      <td>pt2aw1</td>\n",
       "      <td>-0.597620</td>\n",
       "      <td>0.245710</td>\n",
       "    </tr>\n",
       "    <tr>\n",
       "      <th>19</th>\n",
       "      <td>pt2aw2</td>\n",
       "      <td>-0.430480</td>\n",
       "      <td>0.225020</td>\n",
       "    </tr>\n",
       "    <tr>\n",
       "      <th>20</th>\n",
       "      <td>pt2aslp1</td>\n",
       "      <td>-0.799750</td>\n",
       "      <td>0.400150</td>\n",
       "    </tr>\n",
       "    <tr>\n",
       "      <th>21</th>\n",
       "      <td>pt2aslp2</td>\n",
       "      <td>-0.617930</td>\n",
       "      <td>0.265150</td>\n",
       "    </tr>\n",
       "    <tr>\n",
       "      <th>22</th>\n",
       "      <td>pt3aw1</td>\n",
       "      <td>-0.868150</td>\n",
       "      <td>0.414260</td>\n",
       "    </tr>\n",
       "    <tr>\n",
       "      <th>23</th>\n",
       "      <td>pt3aslp1</td>\n",
       "      <td>-0.921520</td>\n",
       "      <td>0.443130</td>\n",
       "    </tr>\n",
       "    <tr>\n",
       "      <th>24</th>\n",
       "      <td>pt3aslp2</td>\n",
       "      <td>-0.919700</td>\n",
       "      <td>0.504710</td>\n",
       "    </tr>\n",
       "  </tbody>\n",
       "</table>\n",
       "</div>"
      ],
      "text/plain": [
       "     patient     slope       R^2\n",
       "0     pt1sz2 -0.633020  0.206610\n",
       "1     pt1sz3 -0.742380  0.349010\n",
       "2     pt1sz4 -0.564520  0.144200\n",
       "3     pt2sz1 -0.654040  0.212870\n",
       "4     pt2sz3 -0.622520  0.221930\n",
       "5     pt2sz4 -0.708940  0.288040\n",
       "6     pt3sz2 -0.556470  0.471120\n",
       "7     pt3sz4 -0.853120  0.444210\n",
       "8     pt8sz1 -0.078402  0.003655\n",
       "9     pt8sz2  0.179860  0.009657\n",
       "10    pt8sz3  0.608970  0.147010\n",
       "11   pt10sz1  0.184110  0.009935\n",
       "12   pt10sz2  0.105660  0.003785\n",
       "13   pt10sz3 -0.478920  0.104020\n",
       "14  pt1aslp1 -0.536600  0.404540\n",
       "15  pt1aslp2 -0.722380  0.257750\n",
       "16    pt1aw1 -0.746260  0.278840\n",
       "17    pt1aw2 -0.572760  0.154770\n",
       "18    pt2aw1 -0.597620  0.245710\n",
       "19    pt2aw2 -0.430480  0.225020\n",
       "20  pt2aslp1 -0.799750  0.400150\n",
       "21  pt2aslp2 -0.617930  0.265150\n",
       "22    pt3aw1 -0.868150  0.414260\n",
       "23  pt3aslp1 -0.921520  0.443130\n",
       "24  pt3aslp2 -0.919700  0.504710"
      ]
     },
     "metadata": {},
     "output_type": "display_data"
    }
   ],
   "source": [
    "rowvscolFile = '../figures/rowvscol/regressionFits.txt'\n",
    "regressionFits = pd.read_csv(rowvscolFile, sep=',', names=['patient', 'slope', 'R^2'])\n",
    "display(regressionFits)\n",
    "\n",
    "# ax = plt.subplot(111, frame_on=False) # no visible frame\n",
    "# ax.xaxis.set_visible(False)  # hide the x axis\n",
    "# ax.yaxis.set_visible(False)  # hide the y axis\n",
    "\n",
    "# pd.tools.plotting.table(ax, regressionFits) # where df is your data frame\n",
    "\n",
    "# plt.savefig('mytable.png')"
   ]
  },
  {
   "cell_type": "code",
   "execution_count": null,
   "metadata": {
    "collapsed": true
   },
   "outputs": [],
   "source": []
  }
 ],
 "metadata": {
  "kernelspec": {
   "display_name": "Python 2",
   "language": "python",
   "name": "python2"
  },
  "language_info": {
   "codemirror_mode": {
    "name": "ipython",
    "version": 2
   },
   "file_extension": ".py",
   "mimetype": "text/x-python",
   "name": "python",
   "nbconvert_exporter": "python",
   "pygments_lexer": "ipython2",
   "version": "2.7.11"
  }
 },
 "nbformat": 4,
 "nbformat_minor": 0
}
