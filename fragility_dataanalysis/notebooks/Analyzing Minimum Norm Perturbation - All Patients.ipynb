{
 "cells": [
  {
   "cell_type": "markdown",
   "metadata": {},
   "source": [
    "# Analyzing The Min Norm Perturbation Necessary\n",
    "I take a look at the matrix of minimum norm perturbation per electrode per time window for each patient and analyze its distribution and perform other data analyses to determine if there is a difference between EZ electrodes and non-EZ electrodes.\n",
    "\n",
    "# Table of Contents:\n",
    "Given a patient, time periods, and certain channels, we can explore the eigenspectrum, adjacency matrix and raw iEEG data.\n",
    "\n",
    "* Import And Analyze Data <a href='#section1'>Link</a>\n",
    "* Raw iEEG Data <a href='#section2'>Link</a>\n"
   ]
  },
  {
   "cell_type": "code",
   "execution_count": 1,
   "metadata": {
    "collapsed": true
   },
   "outputs": [],
   "source": [
    "import pandas as pd\n",
    "import numpy as np\n",
    "import json\n",
    "import os\n",
    "from IPython.display import display\n",
    "\n",
    "import scipy, scipy.io\n",
    "\n",
    "\n",
    "import matplotlib\n",
    "from matplotlib import *\n",
    "from matplotlib import pyplot as plt\n",
    "import itertools\n",
    "from mpl_toolkits.axes_grid1 import make_axes_locatable\n",
    "# pretty charting\n",
    "import seaborn as sns\n",
    "sns.set_palette('muted')\n",
    "sns.set_style('darkgrid')\n",
    "from natsort import natsorted, ns\n",
    "\n",
    "%matplotlib inline\n",
    "\n",
    "\n",
    "## sklearn imports\n",
    "import sklearn.linear_model\n",
    "import sklearn.cross_validation\n",
    "import sklearn.tree\n",
    "import sklearn.ensemble\n",
    "import sklearn.preprocessing\n",
    "import sklearn.feature_selection\n",
    "import sklearn.pipeline\n",
    "import sklearn.grid_search"
   ]
  },
  {
   "cell_type": "code",
   "execution_count": 8,
   "metadata": {
    "collapsed": true
   },
   "outputs": [],
   "source": [
    "# paramaters of data\n",
    "freq = 1000\n",
    "winSize = 500\n",
    "stepSize = 500\n",
    "\n",
    "# directories\n",
    "threshold = 0.8\n",
    "radius = 1.5\n",
    "perturbation = 'R'\n",
    "patients = ['pt1sz2', 'pt1sz3', 'pt2sz1', 'pt2sz3', 'pt7sz19', 'pt7sz21', 'pt7sz22', \\\n",
    "           'JH105sz1']\n",
    "dataDir = '../adj_mats_win500_step500_freq1000/'"
   ]
  },
  {
   "cell_type": "code",
   "execution_count": 53,
   "metadata": {
    "collapsed": false
   },
   "outputs": [],
   "source": [
    "def determineClinicalAnnotations(patient_id):\n",
    "    if patient_id == 'EZT005':\n",
    "        included_channels = np.concatenate((np.arange(1,21+1), np.arange(23,60+1), np.arange(63,88+1)))\n",
    "        ezone_labels = ['U4', 'U3', 'U5', 'U6', 'U8', 'U7'] \n",
    "        earlyspread_labels = []\n",
    "        latespread_labels = []\n",
    "    elif patient_id == 'EZT007':\n",
    "        included_channels = np.concatenate((np.arange(1,16+1), np.arange(18,53+1), np.arange(55,71+1), \\\n",
    "                                           np.arange(74,78+1), np.arange(81,94+1)))\n",
    "        ezone_labels = ['O7', 'E8', 'E7', 'I5', 'E9', 'I6', 'E3', 'E2',\\\n",
    "            'O4', 'O5', 'I8', 'I7', 'E10', 'E1', 'O6', 'I1', 'I9', 'E6',\\\n",
    "            'I4', 'O3', 'O2', 'I10', 'E4', 'Y1', 'O1', 'I3', 'I2'] \n",
    "        earlyspread_labels = []\n",
    "        latespread_labels = []\n",
    "    elif patient_id == 'EZT019':\n",
    "        included_channels = np.concatenate((np.arange(1,5+1), np.arange(7,22+1), np.arange(24,79+1)))\n",
    "        ezone_labels = ['I5', 'I6', 'B9', 'I9', 'T10', 'I10', 'B6', 'I4', \\\n",
    "            'T9', 'I7', 'B3', 'B5', 'B4', 'I8', 'T6', 'B10', 'T3',\\\n",
    "            'B1', 'T8', 'T7', 'B7', 'I3', 'B2', 'I2', 'T4', 'T2'] \n",
    "        earlyspread_labels = []\n",
    "        latespread_labels = []\n",
    "    elif patient_id == 'EZT045':\n",
    "        included_channels = np.concatenate((np.arange(1,2), np.arange(3,14+1), np.arange(16,20+1), np.arange(24,38+1), \\\n",
    "                                           np.arange(30,65+1)))\n",
    "        ezone_labels = ['X2', 'X1']\n",
    "        earlyspread_labels = []\n",
    "        latespread_labels = [] \n",
    "#     elif patient_id == 'EZT090':\n",
    "\n",
    "    elif patient_id == 'pt1':\n",
    "        included_channels = np.concatenate((np.arange(1,36+1), np.arange(42, 43+1), np.arange(46,69+1), np.arange(72,95+1)))\n",
    "        ezone_labels = ['POLATT1', 'POLATT2', 'POLAD1', 'POLAD2', 'POLAD3']\n",
    "        earlyspread_labels = ['POLATT3', 'POLAST1', 'POLAST2']\n",
    "        latespread_labels = ['POLATT4', 'POLATT5', 'POLATT6', \\\n",
    "                            'POLSLT2', 'POLSLT3', 'POLSLT4', \\\n",
    "                            'POLMLT2', 'POLMLT3', 'POLMLT4', 'POLG8', 'POLG16']\n",
    "        \n",
    "    \n",
    "    return included_channels, ezone_labels, earlyspread_labels, latespread_labels"
   ]
  },
  {
   "cell_type": "code",
   "execution_count": 54,
   "metadata": {
    "collapsed": true
   },
   "outputs": [],
   "source": [
    "def loadLabels(patient):\n",
    "    dataDir = '../data/'\n",
    "\n",
    "    # create path to file for each different patient-seizure\n",
    "    patFile = os.path.join(dataDir, patient, patient) \n",
    "    \n",
    "    # load in the eeg and labels\n",
    "    data = scipy.io.loadmat(patFile, squeeze_me=True, struct_as_record=False)\n",
    "    eeg = data['data']\n",
    "    elec_labels = data['elec_labels']\n",
    "    \n",
    "    return elec_labels"
   ]
  },
  {
   "cell_type": "code",
   "execution_count": 79,
   "metadata": {
    "collapsed": false
   },
   "outputs": [
    {
     "data": {
      "image/png": "[encoded data removed]",
      "text/plain": [
       "<matplotlib.figure.Figure at 0x7f4386234410>"
      ]
     },
     "metadata": {},
     "output_type": "display_data"
    }
   ],
   "source": [
    "for patient in patients:\n",
    "    contrastStatList = [] # initialize empty list per patient\n",
    "    \n",
    "    # set directory path to the datafile and load it\n",
    "    perturbationDir = os.path.join(dataDir, perturbation+'_finaldata_radius'+str(radius))\n",
    "    dataFile = os.path.join(perturbationDir, patient+'final_data.mat')\n",
    "    data = scipy.io.loadmat(dataFile, squeeze_me=True, struct_as_record=False)\n",
    "    \n",
    "    # load in the includedchannels, ezlabels, earlyspread/latespread labels\n",
    "    pat_id = patient.split('seiz')[0]\n",
    "    if pat_id==patient:\n",
    "        pat_id = patient.split('sz')[0]\n",
    "    included_channels, ezone_labels, earlyspread_labels, latespread_labels = determineClinicalAnnotations(pat_id)\n",
    "    \n",
    "    # load electrode labels of this patient\n",
    "    elec_labels = loadLabels(patient)\n",
    "    elec_indices = np.arange(1, len(elec_labels)+1)\n",
    "\n",
    "    # find indices of the ez labels and the ones not in ez\n",
    "    ezIndices = []\n",
    "    for label in ezone_labels:\n",
    "        elec_list = list(elec_labels)\n",
    "        ezIndices.append(elec_list.index(label))\n",
    "    otherIndices = np.asarray(filter(lambda x: x not in indexoflabel, elec_indices))\n",
    "\n",
    "    # decrement all indices by 1 to start at 0\n",
    "    elec_indices = elec_indices - 1\n",
    "    otherIndices = otherIndices - 1\n",
    "    \n",
    "    # analyze the fragility metric matrix\n",
    "    minNormPert = data['minPerturb_time_chan']\n",
    "    ezone_minNorm = minNormPert[ezIndices,:]\n",
    "    other_minNorm = minNormPert[otherIndices,:]\n",
    "    \n",
    "    ezone_minNorm = np.ndarray.flatten(ezone_minNorm)\n",
    "    other_minNorm = np.ndarray.flatten(other_minNorm)\n",
    "    \n",
    "    # generate random indices to downsample histogram\n",
    "    randIndices =np.random.randint(0, len(other_minNorm), size=len(ezone_minNorm))\n",
    "    \n",
    "    # Plotting the histograms of minimum norm distributions\n",
    "    fig = plt.figure(figsize=(10, 6))\n",
    "    axes = plt.gca()\n",
    "    plt.rc('font', size='20', weight='bold')\n",
    "    plt.hist(ezone_minNorm, label='EZ Electrodes', alpha=0.5)\n",
    "    plt.hist(other_minNorm[randIndices], label='Other Electrodes', alpha=0.5)\n",
    "    plt.xlabel('Minimum L2-norm Perturbation')\n",
    "    plt.ylabel('Frequeny Count')\n",
    "    plt.title('Comparing Electrode''s Perturbation For ' + patient)\n",
    "    axes.grid(False)\n",
    "    plt.legend()\n",
    "    break\n",
    "\n",
    "\n",
    "        "
   ]
  },
  {
   "cell_type": "code",
   "execution_count": 56,
   "metadata": {
    "collapsed": false
   },
   "outputs": [
    {
     "name": "stdout",
     "output_type": "stream",
     "text": [
      "pt1\n"
     ]
    }
   ],
   "source": [
    "patient = 'EZT045seiz001'\n",
    "patient = 'pt1sz2'\n",
    "\n",
    "\n",
    "print pat"
   ]
  },
  {
   "cell_type": "code",
   "execution_count": 63,
   "metadata": {
    "collapsed": false
   },
   "outputs": [
    {
     "name": "stdout",
     "output_type": "stream",
     "text": [
      "[ 0  1  2  3  4  5  6  7  8  9 10 11 12 13 14 15 16 17 18 19 20 21 22 23 24\n",
      " 25 26 27 28 29 30 31 32 33 34 35 36 37 38 39 40 41 42 43 44 45 46 47 48 49\n",
      " 50 51 52 53 54 55 56 57 58 59 60 61 62 63 64 65 66 67 68 69 70 71 72 73 74\n",
      " 75 76 77 78 79 80 81 82 83 84 85]\n",
      "[1, 2, 3, 4, 5, 6, 7, 8, 9, 10, 11, 12, 13, 14, 15, 16, 17, 18, 19, 20, 21, 22, 23, 24, 25, 26, 27, 28, 29, 30, 31, 34, 35, 36, 37, 38, 39, 40, 41, 42, 43, 44, 45, 46, 47, 48, 49, 50, 51, 52, 53, 57, 58, 59, 60, 61, 62, 63, 64, 65, 66, 67, 68, 69, 70, 71, 72, 73, 74, 75, 76, 77, 78, 79, 80, 81, 82, 83, 84, 85, 86]\n"
     ]
    }
   ],
   "source": [
    "print elec_indices\n",
    "print otherIndices"
   ]
  },
  {
   "cell_type": "code",
   "execution_count": null,
   "metadata": {
    "collapsed": true
   },
   "outputs": [],
   "source": []
  }
 ],
 "metadata": {
  "kernelspec": {
   "display_name": "Python 2",
   "language": "python",
   "name": "python2"
  },
  "language_info": {
   "codemirror_mode": {
    "name": "ipython",
    "version": 2
   },
   "file_extension": ".py",
   "mimetype": "text/x-python",
   "name": "python",
   "nbconvert_exporter": "python",
   "pygments_lexer": "ipython2",
   "version": "2.7.12"
  }
 },
 "nbformat": 4,
 "nbformat_minor": 0
}
