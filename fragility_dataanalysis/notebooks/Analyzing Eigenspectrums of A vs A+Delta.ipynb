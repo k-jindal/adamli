{
 "cells": [
  {
   "cell_type": "code",
   "execution_count": 1,
   "metadata": {
    "collapsed": false
   },
   "outputs": [
    {
     "name": "stderr",
     "output_type": "stream",
     "text": [
      "/usr/local/lib/python2.7/site-packages/matplotlib/font_manager.py:273: UserWarning: Matplotlib is building the font cache using fc-list. This may take a moment.\n",
      "  warnings.warn('Matplotlib is building the font cache using fc-list. This may take a moment.')\n"
     ]
    }
   ],
   "source": [
    "import pandas as pd\n",
    "import numpy as np\n",
    "import json\n",
    "import os\n",
    "from IPython.display import display\n",
    "\n",
    "import scipy, scipy.io\n",
    "\n",
    "\n",
    "import matplotlib\n",
    "from matplotlib import *\n",
    "from matplotlib import pyplot as plt\n",
    "import itertools\n",
    "from mpl_toolkits.axes_grid1 import make_axes_locatable\n",
    "# pretty charting\n",
    "import seaborn as sns\n",
    "sns.set_palette('muted')\n",
    "sns.set_style('darkgrid')\n",
    "from natsort import natsorted, ns\n",
    "\n",
    "%matplotlib inline\n",
    "\n",
    "## sklearn imports\n",
    "import sklearn.linear_model\n",
    "import sklearn.cross_validation\n",
    "import sklearn.tree\n",
    "import sklearn.ensemble\n",
    "import sklearn.preprocessing\n",
    "import sklearn.feature_selection\n",
    "import sklearn.pipeline\n",
    "import sklearn.grid_search"
   ]
  },
  {
   "cell_type": "code",
   "execution_count": 4,
   "metadata": {
    "collapsed": false
   },
   "outputs": [
    {
     "name": "stdout",
     "output_type": "stream",
     "text": [
      "The original A matrices are:  ['JH104sz1_1_before60000.mat', 'JH104sz1_2_before59500.mat', 'JH104sz1_3_before59000.mat', 'JH104sz1_4_before58500.mat', 'JH104sz1_5_before58000.mat']\n",
      "The perturbation A file is:  ../adj_mats_win500_step500_freq1000/R_finaldata_radius1.5/JH104sz1final_data.mat\n"
     ]
    }
   ],
   "source": [
    "# user changes: patient, and time period\n",
    "patients = ['JH104sz1']\n",
    "timePeriod = [58, 60]\n",
    "\n",
    "# paramaters of data\n",
    "freq = 1000\n",
    "winSize = 500\n",
    "stepSize = 500\n",
    "\n",
    "# directories\n",
    "dataDir = '../data/'\n",
    "adjDir = '../adj_mats_win500_step500_freq1000/'\n",
    "perturbationDir = '../adj_mats_win500_step500_freq1000/R_finaldata_radius1.5/'\n",
    "\n",
    "##### get the mat files for this patient and parameters and then only get files i that region #####\n",
    "patient = patients[0]\n",
    "patientDir = adjDir + patient + '/'\n",
    "matFiles = []\n",
    "for file in os.listdir(patientDir):\n",
    "    if file.endswith('.mat'):\n",
    "        matFiles.append(file)\n",
    "        \n",
    "## given time period\n",
    "timePeriod = np.asarray(timePeriod) * 1000 # convert to ms\n",
    "timePeriod = np.linspace(timePeriod[0], timePeriod[1], num=np.ptp(timePeriod)/winSize+1)\n",
    "\n",
    "# find files of this time period, and show their corresponding eigenspectrum and heatmap of adjacency mat\n",
    "filesInPeriod = []\n",
    "for file in matFiles:\n",
    "    for time in timePeriod:\n",
    "        if str(int(time)) in file:\n",
    "            filesInPeriod.append(file)\n",
    "\n",
    "##### get mat files for perturbations #####\n",
    "patientFile = perturbationDir + patient + 'final_data.mat'\n",
    "            \n",
    "print \"The original A matrices are: \", filesInPeriod\n",
    "print \"The perturbation A file is: \", patientFile"
   ]
  },
  {
   "cell_type": "markdown",
   "metadata": {},
   "source": [
    "## 1. Load Data"
   ]
  },
  {
   "cell_type": "code",
   "execution_count": null,
   "metadata": {
    "collapsed": true
   },
   "outputs": [],
   "source": []
  }
 ],
 "metadata": {
  "kernelspec": {
   "display_name": "Python 2",
   "language": "python",
   "name": "python2"
  },
  "language_info": {
   "codemirror_mode": {
    "name": "ipython",
    "version": 2
   },
   "file_extension": ".py",
   "mimetype": "text/x-python",
   "name": "python",
   "nbconvert_exporter": "python",
   "pygments_lexer": "ipython2",
   "version": "2.7.11"
  }
 },
 "nbformat": 4,
 "nbformat_minor": 1
}
